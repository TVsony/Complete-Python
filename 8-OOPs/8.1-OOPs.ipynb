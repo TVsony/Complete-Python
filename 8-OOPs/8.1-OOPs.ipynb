{
 "cells": [
  {
   "cell_type": "markdown",
   "metadata": {},
   "source": [
    "### Classes and Objects\n",
    "Object-Oriented Programming (OOP) is a programming paradigm that uses \"objects\" to design applications and computer programs. OOP allows for modeling real-world scenarios using classes and objects. This lesson covers the basics of creating classes and objects, including instance variables and methods."
   ]
  },
  {
   "attachments": {
    "image.png": {
     "image/png": "[encoded data removed]"
    }
   },
   "cell_type": "markdown",
   "metadata": {},
   "source": [
    "#### Class \n",
    "- Class is a architecture of the object.\n",
    "- Class is a Blue Print of the object.\n",
    "- A user-define proto type for an object that defines a set of attributes that charectrized any object of the class\n",
    "- Class provide the security of the data.\n",
    "- A object belong to same categeory called class \n",
    "- A class is group of names and does not exist physically but object exist physicaaly.\n",
    "##### Object\n",
    "- Every things in this word is an object.\n",
    "- Every object has some behavior and its represented by attribute and action\n",
    "##### Attributes \n",
    "- The attributes are data members (Class variable and instance variable) and methods accessed via dot notation classes provide a means of building data functionally together.\n",
    "OR \n",
    "An attribute represented by variables in our programing Eg. name, age, sex, roll no.\n",
    "\n",
    "##### Methods \n",
    "- The actions are performed by methods a function written inside a class is called a method so an object contains variables and method \n",
    "\n",
    "![image.png](attachment:image.png)\n",
    "\n",
    "\n",
    "An Object does not exist without class but a class can exist without any object\n"
   ]
  },
  {
   "cell_type": "code",
   "execution_count": 1,
   "metadata": {},
   "outputs": [
    {
     "name": "stdout",
     "output_type": "stream",
     "text": [
      "<__main__.Dog object at 0x000002A7ACCE4250>\n",
      "Buddy\n",
      "3\n",
      "Lucy\n",
      "4\n"
     ]
    }
   ],
   "source": [
    "### Instance Variable and Methods\n",
    "class Dog:\n",
    "    ## constructor\n",
    "    def __init__(self,name,age):\n",
    "        self.name=name\n",
    "        self.age=age\n",
    "\n",
    "## create objects\n",
    "dog1=Dog(\"Buddy\",3)\n",
    "print(dog1)\n",
    "print(dog1.name)\n",
    "print(dog1.age)\n",
    "\n",
    "\n",
    "dog2=Dog(\"Lucy\",4)\n",
    "print(dog2.name)\n",
    "print(dog2.age)"
   ]
  },
  {
   "cell_type": "code",
   "execution_count": 2,
   "metadata": {},
   "outputs": [
    {
     "name": "stdout",
     "output_type": "stream",
     "text": [
      "Buddy says woof\n",
      "Lucy says woof\n"
     ]
    }
   ],
   "source": [
    "## Define a class with instance methods\n",
    "class Dog:\n",
    "    def __init__(self,name,age):\n",
    "        self.name=name\n",
    "        self.age=age\n",
    "    \n",
    "    def bark(self):\n",
    "        print(f\"{self.name} says woof\")\n",
    "\n",
    "\n",
    "dog1=Dog(\"Buddy\",3)\n",
    "dog1.bark()\n",
    "dog2=Dog(\"Lucy\",4)\n",
    "dog2.bark()"
   ]
  },
  {
   "cell_type": "code",
   "execution_count": 3,
   "metadata": {},
   "outputs": [
    {
     "name": "stdout",
     "output_type": "stream",
     "text": [
      "5000\n"
     ]
    }
   ],
   "source": [
    "### Modeling a Bank Account\n",
    "\n",
    "## Define a class for bank account\n",
    "class BankAccount:\n",
    "    def __init__(self,owner,balance=0):\n",
    "        self.owner=owner\n",
    "        self.balance=balance\n",
    "\n",
    "    def deposit(self,amount):\n",
    "        self.balance+=amount\n",
    "        print(f\"{amount} is deposited. New balance is {self.balance}\")\n",
    "\n",
    "    def withdraw(self,amount):\n",
    "        if amount>self.balance:\n",
    "            print(\"Insufficient funds!\")\n",
    "        else:\n",
    "            self.balance-=amount\n",
    "            print(f\"{amount} is withdrawn. New Balance is {self.balance}\")\n",
    "\n",
    "    def get_balance(self):\n",
    "        return self.balance\n",
    "    \n",
    "## create an account\n",
    "\n",
    "account=BankAccount(\"Bhimrao\",5000)\n",
    "print(account.balance)"
   ]
  },
  {
   "cell_type": "code",
   "execution_count": 4,
   "metadata": {},
   "outputs": [
    {
     "name": "stdout",
     "output_type": "stream",
     "text": [
      "100 is deposited. New balance is 5100\n"
     ]
    }
   ],
   "source": [
    "## Call isntance methods\n",
    "account.deposit(100)"
   ]
  },
  {
   "cell_type": "code",
   "execution_count": 5,
   "metadata": {},
   "outputs": [
    {
     "name": "stdout",
     "output_type": "stream",
     "text": [
      "300 is withdrawn. New Balance is 4800\n"
     ]
    }
   ],
   "source": [
    "account.withdraw(300)"
   ]
  },
  {
   "cell_type": "code",
   "execution_count": null,
   "metadata": {},
   "outputs": [
    {
     "name": "stdout",
     "output_type": "stream",
     "text": [
      "4800\n"
     ]
    }
   ],
   "source": [
    "print(account.get_balance())"
   ]
  },
  {
   "cell_type": "code",
   "execution_count": 7,
   "metadata": {},
   "outputs": [
    {
     "name": "stdout",
     "output_type": "stream",
     "text": [
      "Name: John, Age: 20, Grade: A\n",
      "Name: Jane, Age: 22, Grade: B\n",
      "Name: Bob, Age: 21, Grade: C\n"
     ]
    }
   ],
   "source": [
    "class Student():\n",
    "    def __init__(self, name, age, grade):\n",
    "        self.name = name\n",
    "        self.age = age\n",
    "        self.grade = grade\n",
    "\n",
    "    def display(self):\n",
    "        print(f\"Name: {self.name}, Age: {self.age}, Grade: {self.grade}\")\n",
    "\n",
    "\n",
    "# Object/instance creation\n",
    "student1 = Student(\"John\", 20, \"A\")\n",
    "student1.display()\n",
    "student2 = Student(\"Jane\", 22, \"B\")\n",
    "student2.display()\n",
    "student3 = Student(\"Bob\", 21, \"C\")\n",
    "student3.display()"
   ]
  },
  {
   "cell_type": "code",
   "execution_count": 11,
   "metadata": {},
   "outputs": [
    {
     "data": {
      "text/plain": [
       "'John'"
      ]
     },
     "execution_count": 11,
     "metadata": {},
     "output_type": "execute_result"
    }
   ],
   "source": [
    "# We can access data with help of the Object only it means class give security \n",
    "student1.name"
   ]
  },
  {
   "cell_type": "code",
   "execution_count": 12,
   "metadata": {},
   "outputs": [
    {
     "data": {
      "text/plain": [
       "22"
      ]
     },
     "execution_count": 12,
     "metadata": {},
     "output_type": "execute_result"
    }
   ],
   "source": [
    "student2.age"
   ]
  },
  {
   "cell_type": "code",
   "execution_count": 13,
   "metadata": {},
   "outputs": [
    {
     "name": "stdout",
     "output_type": "stream",
     "text": [
      "Name: Bhimrao, Age: 26, Grade: D\n"
     ]
    }
   ],
   "source": [
    "student4 = Student(\"Bhimrao\",26,\"D\")\n",
    "student4.display()"
   ]
  },
  {
   "cell_type": "code",
   "execution_count": 21,
   "metadata": {},
   "outputs": [
    {
     "name": "stdout",
     "output_type": "stream",
     "text": [
      "This is a Toyota car of model Camry with colour Red and price 2500000\n",
      "This is a Honda car of model Civic with colour Blue and price 2000000\n",
      "This is a Ford car of model Mustang with colour Black and price 3500000\n"
     ]
    }
   ],
   "source": [
    "class Car:\n",
    "    def __init__(self, company, colour, model, price):\n",
    "        self.company = company\n",
    "        self.colour = colour\n",
    "        self.model = model\n",
    "        self.price = price\n",
    "\n",
    "    def display(self):\n",
    "        print(f\"This is a {self.company} car of model {self.model} with colour {self.colour} and price {self.price}\")\n",
    "\n",
    "def main():\n",
    "    c1 = Car(\"Toyota\", \"Red\", \"Camry\", 2500000)\n",
    "    c1.display()\n",
    "    c2 = Car(\"Honda\", \"Blue\", \"Civic\", 2000000)\n",
    "    c2.display()\n",
    "    c3 = Car(\"Ford\", \"Black\", \"Mustang\", 3500000)\n",
    "    c3.display()\n",
    "\n",
    "if __name__ == \"__main__\":\n",
    "    main()"
   ]
  },
  {
   "cell_type": "code",
   "execution_count": null,
   "metadata": {},
   "outputs": [],
   "source": []
  }
 ],
 "metadata": {
  "kernelspec": {
   "display_name": "Python 3",
   "language": "python",
   "name": "python3"
  },
  "language_info": {
   "codemirror_mode": {
    "name": "ipython",
    "version": 3
   },
   "file_extension": ".py",
   "mimetype": "text/x-python",
   "name": "python",
   "nbconvert_exporter": "python",
   "pygments_lexer": "ipython3",
   "version": "3.11.0"
  }
 },
 "nbformat": 4,
 "nbformat_minor": 2
}

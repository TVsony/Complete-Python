{
 "cells": [
  {
   "attachments": {
    "image.png": {
     "image/png": "[encoded data removed]"
    }
   },
   "cell_type": "markdown",
   "metadata": {},
   "source": [
    "#### Inheritance In Python\n",
    "Inheritance is a fundamental concept in Object-Oriented Programming (OOP) that allows a class to inherit attributes and methods from another class. This lesson covers single inheritance and multiple inheritance, demonstrating how to create and use them in Python.\n",
    "- Inheritance provides the code reusability to the program because we can use an existing class to create a new class insted of creating it from scratch.\n",
    "\n",
    "- Inheritance is the properties where child class aquare and can access the all the\n",
    "data from its parent class \n",
    "\n",
    "### Types of inheritance \n",
    "\n",
    "![image.png](attachment:image.png)\n",
    "\n",
    "\n",
    "##### super() function \n",
    "- The super() function is used to call methods from the parent class.\n",
    "- A child class can override methods from the parent class by defining methods with the same name."
   ]
  },
  {
   "cell_type": "code",
   "execution_count": 1,
   "metadata": {},
   "outputs": [],
   "source": [
    "class ParentClass:\n",
    "    # Parent class attributes and methods\n",
    "    pass\n",
    "\n",
    "class ChildClass(ParentClass):\n",
    "    # Child class attributes and methods\n",
    "    pass"
   ]
  },
  {
   "cell_type": "code",
   "execution_count": 2,
   "metadata": {},
   "outputs": [
    {
     "name": "stdout",
     "output_type": "stream",
     "text": [
      "Animal speaks\n",
      "Dog barks\n"
     ]
    }
   ],
   "source": [
    "# Single Inheritance\n",
    "# Parent class\n",
    "class Animal:\n",
    "    def speak(self):\n",
    "        return \"Animal speaks\"\n",
    "\n",
    "# Child class inheriting from Animal\n",
    "class Dog(Animal):\n",
    "    def bark(self):\n",
    "        return \"Dog barks\"\n",
    "\n",
    "dog = Dog()\n",
    "print(dog.speak())  # Output: Animal speaks\n",
    "print(dog.bark())   # Output: Dog barks"
   ]
  },
  {
   "cell_type": "code",
   "execution_count": 3,
   "metadata": {},
   "outputs": [
    {
     "name": "stdout",
     "output_type": "stream",
     "text": [
      "Father works\n",
      "Mother cares\n"
     ]
    }
   ],
   "source": [
    "# Multiple Inheritance\n",
    "# Parent class 1\n",
    "class Father:\n",
    "    def work(self):\n",
    "        return \"Father works\"\n",
    "\n",
    "# Parent class 2\n",
    "class Mother:\n",
    "    def care(self):\n",
    "        return \"Mother cares\"\n",
    "\n",
    "# Child class inheriting from both Father and Mother\n",
    "class Child(Father, Mother):\n",
    "    pass\n",
    "\n",
    "child = Child()\n",
    "print(child.work())  # Output: Father works\n",
    "print(child.care())  # Output: Mother cares"
   ]
  },
  {
   "cell_type": "code",
   "execution_count": 4,
   "metadata": {},
   "outputs": [
    {
     "name": "stdout",
     "output_type": "stream",
     "text": [
      "Vehicle starts\n",
      "Car drives\n",
      "SportsCar races\n"
     ]
    }
   ],
   "source": [
    "# Multilevel Inheritance\n",
    "# Grandparent class\n",
    "class Vehicle:\n",
    "    def start(self):\n",
    "        return \"Vehicle starts\"\n",
    "\n",
    "# Parent class inheriting from Vehicle\n",
    "class Car(Vehicle):\n",
    "    def drive(self):\n",
    "        return \"Car drives\"\n",
    "\n",
    "# Child class inheriting from Car\n",
    "class SportsCar(Car):\n",
    "    def race(self):\n",
    "        return \"SportsCar races\"\n",
    "\n",
    "sports_car = SportsCar()\n",
    "print(sports_car.start())  # Output: Vehicle starts\n",
    "print(sports_car.drive())  # Output: Car drives\n",
    "print(sports_car.race())   # Output: SportsCar races"
   ]
  },
  {
   "cell_type": "code",
   "execution_count": 5,
   "metadata": {},
   "outputs": [
    {
     "name": "stdout",
     "output_type": "stream",
     "text": [
      "Bird flies\n",
      "Sparrow sings\n",
      "Bird flies\n",
      "Eagle hunts\n"
     ]
    }
   ],
   "source": [
    "# Parent class\n",
    "class Bird:\n",
    "    def fly(self):\n",
    "        return \"Bird flies\"\n",
    "\n",
    "# Child class 1\n",
    "class Sparrow(Bird):\n",
    "    def sing(self):\n",
    "        return \"Sparrow sings\"\n",
    "\n",
    "# Child class 2\n",
    "class Eagle(Bird):\n",
    "    def hunt(self):\n",
    "        return \"Eagle hunts\"\n",
    "\n",
    "sparrow = Sparrow()\n",
    "eagle = Eagle()\n",
    "print(sparrow.fly())   # Output: Bird flies\n",
    "print(sparrow.sing())  # Output: Sparrow sings\n",
    "print(eagle.fly())     # Output: Bird flies\n",
    "print(eagle.hunt())    # Output: Eagle hunts"
   ]
  },
  {
   "cell_type": "code",
   "execution_count": 4,
   "metadata": {},
   "outputs": [
    {
     "name": "stdout",
     "output_type": "stream",
     "text": [
      "Sparrow Chirping\n",
      "Bird Speaking\n"
     ]
    }
   ],
   "source": [
    "# this is parent class \n",
    "class Bird:\n",
    "    def speak(self):\n",
    "        print(\"Bird Speaking\")\n",
    "\n",
    "# this is derived class (child class)\n",
    "class Sparrow(Bird):\n",
    "    def chirp(self):\n",
    "        print(\"Sparrow Chirping\")\n",
    "\n",
    "sp = Sparrow()  # Create an instance of the Sparrow class\n",
    "sp.chirp()      # Call the chirp method\n",
    "sp.speak()      # Call the inherited speak method"
   ]
  },
  {
   "cell_type": "code",
   "execution_count": 9,
   "metadata": {},
   "outputs": [],
   "source": [
    "class Car:\n",
    "    def __init__(self, windows,doors,enginetype):\n",
    "        self.windows = windows\n",
    "        self.doors = doors\n",
    "        self.enginetype = enginetype\n",
    "\n",
    "    def drive(self):\n",
    "        print(f\"Drive the {self.enginetype} car\")\n"
   ]
  },
  {
   "cell_type": "code",
   "execution_count": 10,
   "metadata": {},
   "outputs": [
    {
     "name": "stdout",
     "output_type": "stream",
     "text": [
      "Drive the Petrol car\n"
     ]
    }
   ],
   "source": [
    "car1 = Car(4,5,\"Petrol\")\n",
    "car1.drive()"
   ]
  },
  {
   "cell_type": "code",
   "execution_count": 21,
   "metadata": {},
   "outputs": [
    {
     "name": "stdout",
     "output_type": "stream",
     "text": [
      "This is a Tesla car of model Model S with colour White and price 8000000\n",
      "Self driving is enabled\n"
     ]
    }
   ],
   "source": [
    "class Car:\n",
    "    def __init__(self, company, colour, model, price):\n",
    "        self.company = company\n",
    "        self.colour = colour\n",
    "        self.model = model\n",
    "        self.price = price\n",
    "\n",
    "    def display(self):\n",
    "        print(f\"This is a {self.company} car of model {self.model} with colour {self.colour} and price {self.price}\")\n",
    "\n",
    "class Tesla(Car):\n",
    "    def __init__(self, company, colour, model, price, is_selfdriving):\n",
    "        super().__init__(company, colour, model, price)  # Initialize attributes from Car\n",
    "        self.is_selfdriving = is_selfdriving\n",
    "\n",
    "    def self_drive(self):\n",
    "        if self.is_selfdriving:\n",
    "            print(\"Self driving is enabled\")\n",
    "        else:\n",
    "            print(\"Self driving is Disabled\")\n",
    "\n",
    "# Example usage\n",
    "t = Tesla(\"Tesla\", \"White\", \"Model S\", 8000000, True)\n",
    "t.display()  # Calls the display method from the Car class\n",
    "t.self_drive()  # Calls the self_drive method from Tesla class\n"
   ]
  },
  {
   "cell_type": "code",
   "execution_count": 22,
   "metadata": {},
   "outputs": [
    {
     "name": "stdout",
     "output_type": "stream",
     "text": [
      "This is a Tesla car of model Model S with colour White and price 8000000\n",
      "Self driving is Disabled\n"
     ]
    }
   ],
   "source": [
    "# Example usage with self-driving disabled\n",
    "t = Tesla(\"Tesla\", \"White\", \"Model S\", 8000000, False)  # Pass False to disable self-driving\n",
    "t.display()  # Calls the display method from the Car class\n",
    "t.self_drive()  # Calls the self_drive method from Tesla class"
   ]
  },
  {
   "cell_type": "code",
   "execution_count": 24,
   "metadata": {},
   "outputs": [
    {
     "name": "stdout",
     "output_type": "stream",
     "text": [
      "Buddy say woof\n",
      "Owner:Bhimrao\n"
     ]
    }
   ],
   "source": [
    "### Multiple Inheritance\n",
    "## When a class inherits from more than one base class.\n",
    "## Base class 1\n",
    "class Animal:\n",
    "    def __init__(self,name):\n",
    "        self.name=name\n",
    "\n",
    "    def speak(self):\n",
    "        print(\"Subclass must implement this method\")\n",
    "\n",
    "## Base class 2\n",
    "class Pet:\n",
    "    def __init__(self, owner):\n",
    "        self.owner = owner\n",
    "\n",
    "\n",
    "##Derived class\n",
    "class Dog(Animal,Pet):\n",
    "    def __init__(self,name,owner):\n",
    "        Animal.__init__(self,name)\n",
    "        Pet.__init__(self,owner)\n",
    "\n",
    "    def speak(self):\n",
    "        return f\"{self.name} say woof\"\n",
    "    \n",
    "\n",
    "## Create an object\n",
    "dog=Dog(\"Buddy\",\"Bhimrao\")\n",
    "print(dog.speak())\n",
    "print(f\"Owner:{dog.owner}\")"
   ]
  },
  {
   "cell_type": "code",
   "execution_count": null,
   "metadata": {},
   "outputs": [],
   "source": []
  }
 ],
 "metadata": {
  "kernelspec": {
   "display_name": "Python 3",
   "language": "python",
   "name": "python3"
  },
  "language_info": {
   "codemirror_mode": {
    "name": "ipython",
    "version": 3
   },
   "file_extension": ".py",
   "mimetype": "text/x-python",
   "name": "python",
   "nbconvert_exporter": "python",
   "pygments_lexer": "ipython3",
   "version": "3.11.0"
  }
 },
 "nbformat": 4,
 "nbformat_minor": 2
}

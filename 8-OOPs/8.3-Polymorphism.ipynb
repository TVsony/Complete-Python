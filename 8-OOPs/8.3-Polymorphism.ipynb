{
 "cells": [
  {
   "cell_type": "markdown",
   "metadata": {},
   "source": [
    "#### Polymorphism in Python\n",
    "- Polymorphism is a core concept in object-oriented programming that allows objects of different types to be treated in the same way. In Python, polymorphism refers to the ability of different classes to define methods that have the same name but behave differently, depending on the object calling them. This can be achieved through method overriding and method overloading.\n",
    "\n",
    "- In simple terms, polymorphism allows a single function or method to work in different ways based on the type of object or the number of arguments passed.\n",
    "\n",
    "- Polymorphism helps in writing flexible and reusable code by allowing a common interface for different types of objects.\n",
    "- In Python, polymorphism is supported through method overriding, the ability of functions to take different types of arguments, and operator overloading.\n",
    "- Polymorphism provides the foundation for dynamic behavior, ensuring that objects behave according to their specific class implementations, even when accessed via a common interface.\n",
    "\n",
    "**Types of Polymorphism:**\n",
    "- 1. Method Overriding: A child class can provide its own implementation of a method that is already defined in its parent class.\n",
    "- 2. Method Overloading: Python doesn't support method overloading directly (like Java or C++), but similar behavior can be achieved by defining default arguments or using variable-length arguments.\n",
    "- 3. Operator Overloading: Python allows you to change the behavior of built-in operators for user-defined types."
   ]
  },
  {
   "cell_type": "code",
   "execution_count": 2,
   "metadata": {},
   "outputs": [
    {
     "name": "stdout",
     "output_type": "stream",
     "text": [
      "Meow\n",
      "Woof\n"
     ]
    }
   ],
   "source": [
    "# Polymorphism with Functions and Objects\n",
    "\n",
    "class Cat:\n",
    "    def sound(self):\n",
    "        return \"Meow\"\n",
    "\n",
    "class Dog:\n",
    "    def sound(self):\n",
    "        return \"Woof\"\n",
    "\n",
    "# Polymorphic function\n",
    "def make_sound(animal):\n",
    "    print(animal.sound())\n",
    "\n",
    "\n",
    "\n",
    "Cat = Cat()\n",
    "dog = Dog()\n",
    "\n",
    "make_sound(Cat)  # Output: Meow\n",
    "make_sound(dog)  # Output: Woof\n"
   ]
  },
  {
   "cell_type": "code",
   "execution_count": 3,
   "metadata": {},
   "outputs": [
    {
     "name": "stdout",
     "output_type": "stream",
     "text": [
      "The bird is flying.\n",
      "The penguin cannot fly.\n"
     ]
    }
   ],
   "source": [
    "# Polymorphism with Inheritance (Method Overriding)\n",
    "# Inheritance allows child classes to override methods of the parent class to exhibit polymorphic behavior.\n",
    "\n",
    "class Bird:\n",
    "    def fly(self):\n",
    "        return \"The bird is flying.\"\n",
    "    \n",
    "class Penguin(Bird):\n",
    "    def fly(self):\n",
    "        return \"The penguin cannot fly.\"\n",
    "    \n",
    "# Polymorphism: The same method call behaves differently based on the object\n",
    "def flying_test(bird):\n",
    "    print(bird.fly())\n",
    "\n",
    "bird = Bird()\n",
    "penguin = Penguin()\n",
    "\n",
    "flying_test(bird)     # Output: The bird is flying.\n",
    "flying_test(penguin) # Output: The penguin cannot fly."
   ]
  },
  {
   "cell_type": "code",
   "execution_count": 6,
   "metadata": {},
   "outputs": [
    {
     "name": "stdout",
     "output_type": "stream",
     "text": [
      "(6, 8)\n"
     ]
    }
   ],
   "source": [
    "# Operator Overloading: Python allows operator overloading, where operators like +, *, etc., can be redefined for user-defined classes.\n",
    "class Point:\n",
    "    def __init__(self, x, y):\n",
    "        self.x = x\n",
    "        self.y = y\n",
    "\n",
    "    # Overloading the '+' operator\n",
    "    def __add__(self, other):\n",
    "        return Point(self.x + other.x, self.y + other.y)\n",
    "\n",
    "    def __str__(self):\n",
    "        return f\"({self.x}, {self.y})\"\n",
    "\n",
    "p1 = Point(2, 3)\n",
    "p2 = Point(4, 5)\n",
    "result = p1 + p2  # Using overloaded '+' operator\n",
    "print(result)\n",
    "\n"
   ]
  },
  {
   "cell_type": "code",
   "execution_count": 8,
   "metadata": {},
   "outputs": [
    {
     "name": "stdout",
     "output_type": "stream",
     "text": [
      "Woof!\n",
      "Meow!\n",
      "Woof!\n"
     ]
    }
   ],
   "source": [
    "class Animal:\n",
    "    def speak(self):\n",
    "        return \"Sound of the animal\"\n",
    "    \n",
    "class Dog(Animal):\n",
    "    def speak(self):\n",
    "        return \"Woof!\"\n",
    "    \n",
    "## Derived Class \n",
    "class Cat(Animal):\n",
    "    def speak(self):\n",
    "        return \"Meow!\"\n",
    "    \n",
    "## Function that demonstrate polymorphism\n",
    "def animal_speak(animal):\n",
    "    print(animal.speak())\n",
    "\n",
    "dog = Dog()\n",
    "Cat = Cat()\n",
    "print(dog.speak())\n",
    "print(Cat.speak()) \n",
    "animal_speak(dog) "
   ]
  },
  {
   "cell_type": "code",
   "execution_count": 11,
   "metadata": {},
   "outputs": [
    {
     "name": "stdout",
     "output_type": "stream",
     "text": [
      "The area is:15\n",
      "The area is:50.24\n"
     ]
    }
   ],
   "source": [
    "## Poly morphism with functions and Methods \n",
    "# base class \n",
    "class shape:\n",
    "    def area(self):\n",
    "        return \"The area of the figure\"\n",
    "    \n",
    "# Derived class \n",
    "class circle(shape):\n",
    "    def __init__(self, radius):\n",
    "        self.radius = radius\n",
    "\n",
    "    def area(self):\n",
    "        return 3.14 * self.radius ** 2\n",
    "    \n",
    "# Derived class\n",
    "class rectangle(shape):\n",
    "    def __init__(self, length, width):\n",
    "        self.length = length\n",
    "        self.width = width\n",
    "\n",
    "    def area(self):\n",
    "        return self.length * self.width\n",
    "    \n",
    "## Function that demonistrate polymorphism\n",
    "def calculate_area(shape):\n",
    "    print(f\"The area is:{shape.area()}\")\n",
    "\n",
    "rectangle = rectangle(5, 3)\n",
    "circle = circle(4)\n",
    "\n",
    "calculate_area(rectangle)\n",
    "calculate_area(circle)"
   ]
  },
  {
   "cell_type": "markdown",
   "metadata": {},
   "source": [
    "#### Polymorphism with Abstract Base Classes\n",
    "Abstract Base Classes (ABCs) are used to define common methods for a group of related objects. They can enforce that derived classes implement particular methods, promoting consistency across different implementations."
   ]
  },
  {
   "cell_type": "code",
   "execution_count": 12,
   "metadata": {},
   "outputs": [
    {
     "name": "stdout",
     "output_type": "stream",
     "text": [
      "Car enginer started\n"
     ]
    }
   ],
   "source": [
    "from abc import ABC,abstractmethod\n",
    "\n",
    "## Define an abstract class\n",
    "class Vehicle(ABC):\n",
    "    @abstractmethod\n",
    "    def start_engine(self):\n",
    "        pass\n",
    "\n",
    "## Derived class 1\n",
    "class Car(Vehicle):\n",
    "    def start_engine(self):\n",
    "        return \"Car enginer started\"\n",
    "    \n",
    "## Derived class 2\n",
    "class Motorcycle(Vehicle):\n",
    "    def start_engine(self):\n",
    "        return \"Motorcycle enginer started\"\n",
    "    \n",
    "# Function that demonstrates polymorphism\n",
    "def start_vehicle(vehicle):\n",
    "    print(vehicle.start_engine())\n",
    "\n",
    "## create objects of Car and Motorcycle\n",
    "\n",
    "car = Car()\n",
    "motorcycle = Motorcycle()\n",
    "\n",
    "start_vehicle(car)"
   ]
  },
  {
   "cell_type": "code",
   "execution_count": null,
   "metadata": {},
   "outputs": [],
   "source": []
  }
 ],
 "metadata": {
  "kernelspec": {
   "display_name": "Python 3",
   "language": "python",
   "name": "python3"
  },
  "language_info": {
   "codemirror_mode": {
    "name": "ipython",
    "version": 3
   },
   "file_extension": ".py",
   "mimetype": "text/x-python",
   "name": "python",
   "nbconvert_exporter": "python",
   "pygments_lexer": "ipython3",
   "version": "3.11.0"
  }
 },
 "nbformat": 4,
 "nbformat_minor": 2
}

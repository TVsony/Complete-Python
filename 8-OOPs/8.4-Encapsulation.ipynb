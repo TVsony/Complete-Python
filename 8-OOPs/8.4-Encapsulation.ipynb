{
 "cells": [
  {
   "cell_type": "markdown",
   "metadata": {},
   "source": [
    "### Encapsulation in Python\n",
    "Encapsulation is a fundamental concept in object-oriented programming (OOP) that refers to the bundling of data (variables) and methods (functions) that operate on that data into a single unit, typically a class. Encapsulation restricts direct access to some of an object's components and can prevent accidental modification of data. It allows controlled access to the internal workings of a class by exposing only the necessary parts through public methods while hiding the rest.\n",
    "\n",
    "In Python, encapsulation can be implemented using:\n",
    "\n",
    "- Public attributes: Accessible from outside the class.\n",
    "- Private attributes: Hidden from outside the class using name mangling (prefixing the attribute with __).\n",
    "\n",
    "**Levels of Access Modifiers in Python:**\n",
    "\n",
    "- 1. **Public:** Variables and methods that can be accessed from anywhere (inside or outside the class). No special prefix is used.\n",
    "- 2. **Protected:** Variables and methods that can be accessed only within the class and its subclasses. Conventionally, a single underscore _ is used before the variable name.\n",
    "- 3. **Private:** Variables and methods that cannot be accessed directly from outside the class. A double underscore __ is used as a prefix to achieve name mangling.\n",
    "\n",
    "**Advantages of Encapsulation:**\n",
    "- 1. Data Protection: Encapsulation hides the internal state of the object, reducing the risk of unintended modification.\n",
    "- 2. Controlled Access: It provides controlled access to the attributes via public methods (getters and setters).\n",
    "- 3. Increased Flexibility: Internal details can be changed without affecting the external code that uses the class.\n",
    "- 4. Code Reusability and Maintainability: Encapsulation helps in keeping the code clean, modular, and easier to maintain.\n",
    "In summary, encapsulation in Python allows you to hide the internal details of a class and expose only what is necessary, ensuring secure and maintainable code."
   ]
  },
  {
   "cell_type": "code",
   "execution_count": 1,
   "metadata": {},
   "outputs": [
    {
     "name": "stdout",
     "output_type": "stream",
     "text": [
      "John\n",
      "50000\n"
     ]
    }
   ],
   "source": [
    "# Public Variable \n",
    "class Employee:\n",
    "    def __init__(self, name, salary):\n",
    "        self.name = name # public attribute\n",
    "        self.salary = salary # public attribute\n",
    "\n",
    "emp = Employee(\"John\", 50000)\n",
    "print(emp.name) \n",
    "print(emp.salary)\n",
    "\n"
   ]
  },
  {
   "cell_type": "code",
   "execution_count": 2,
   "metadata": {},
   "outputs": [
    {
     "name": "stdout",
     "output_type": "stream",
     "text": [
      "Alice\n",
      "Name: Alice, Salary: 50000\n"
     ]
    }
   ],
   "source": [
    "# Protected Variable a single underscore (_) indicates that the member is intended for internal use.\n",
    "class Employee:\n",
    "    def __init__(self, name, salary):\n",
    "        self._name = name     # Protected attribute\n",
    "        self._salary = salary # Protected attribute\n",
    "\n",
    "    def _display_info(self):  # Protected method\n",
    "        return f\"Name: {self._name}, Salary: {self._salary}\"\n",
    "\n",
    "emp = Employee(\"Alice\", 50000)\n",
    "print(emp._name)            # Accessing protected attribute (conventionally discouraged)\n",
    "print(emp._display_info())  # Accessing protected method"
   ]
  },
  {
   "cell_type": "code",
   "execution_count": 3,
   "metadata": {},
   "outputs": [
    {
     "name": "stdout",
     "output_type": "stream",
     "text": [
      "Name: Bob, Salary: 60000\n",
      "Name: Bob, Salary: 65000\n"
     ]
    }
   ],
   "source": [
    "# Private The double underscore (__) triggers name mangling, which changes the attribute name to _ClassName__attributeName to prevent direct access.\n",
    "\n",
    "class Employee:\n",
    "    def __init__(self, name, salary):\n",
    "        self.__name = name      # Private attribute\n",
    "        self.__salary = salary  # Private attribute\n",
    "\n",
    "    def get_info(self):         # Public method to access private attributes\n",
    "        return f\"Name: {self.__name}, Salary: {self.__salary}\"\n",
    "\n",
    "    def set_salary(self, new_salary):  # Public method to modify private attribute\n",
    "        self.__salary = new_salary\n",
    "\n",
    "emp = Employee(\"Bob\", 60000)\n",
    "# Trying to access private attributes (will raise an error)\n",
    "# print(emp.__name)  # AttributeError: 'Employee' object has no attribute '__name'\n",
    "\n",
    "# Accessing private attributes via public method\n",
    "print(emp.get_info())  # Output: Name: Bob, Salary: 60000\n",
    "\n",
    "# Modifying private attribute using setter method\n",
    "emp.set_salary(65000)\n",
    "print(emp.get_info())  \n"
   ]
  },
  {
   "cell_type": "code",
   "execution_count": 4,
   "metadata": {},
   "outputs": [
    {
     "name": "stdout",
     "output_type": "stream",
     "text": [
      "1000\n",
      "Deposited 500. New balance is 1500\n"
     ]
    }
   ],
   "source": [
    "class BankAccount:\n",
    "    def __init__(self, balance):\n",
    "        self.__balance = balance  # Private attribute\n",
    "\n",
    "    # Public method to access private balance\n",
    "    def get_balance(self):\n",
    "        return self.__balance\n",
    "\n",
    "    # Private method to update balance (name mangling)\n",
    "    def __update_balance(self, amount):\n",
    "        self.__balance += amount\n",
    "\n",
    "    # Public method to deposit money (calls the private method)\n",
    "    def deposit(self, amount):\n",
    "        if amount > 0:\n",
    "            self.__update_balance(amount)\n",
    "            return f\"Deposited {amount}. New balance is {self.__balance}\"\n",
    "\n",
    "account = BankAccount(1000)\n",
    "print(account.get_balance())   # Output: 1000\n",
    "\n",
    "# Trying to access the private method directly (will raise an error)\n",
    "# account.__update_balance(500)  # AttributeError: 'BankAccount' object has no attribute '__update_balance'\n",
    "\n",
    "# Accessing the private method indirectly via a public method\n",
    "print(account.deposit(500)) "
   ]
  },
  {
   "cell_type": "code",
   "execution_count": 8,
   "metadata": {},
   "outputs": [
    {
     "name": "stdout",
     "output_type": "stream",
     "text": [
      "Bhimrao\n"
     ]
    }
   ],
   "source": [
    "# Encapsulation with Getter and Setter Methods\n",
    "# Pulic, Projected, Private variables or access modifiers\n",
    "\n",
    "class Person:\n",
    "    def __init__(self, name, age):\n",
    "        self.name = name  # Public variable\n",
    "        self.age = age    # Public variable\n",
    "\n",
    "    # Getter method for name\n",
    "    def get_name(self):\n",
    "        return self.name\n",
    "\n",
    "# Creating an instance of the Person class\n",
    "person = Person(\"Bhimrao\", 30)\n",
    "\n",
    "# Calling the getter method to retrieve the name\n",
    "print(person.get_name())\n"
   ]
  },
  {
   "cell_type": "code",
   "execution_count": 9,
   "metadata": {},
   "outputs": [
    {
     "data": {
      "text/plain": [
       "['__class__',\n",
       " '__delattr__',\n",
       " '__dict__',\n",
       " '__dir__',\n",
       " '__doc__',\n",
       " '__eq__',\n",
       " '__format__',\n",
       " '__ge__',\n",
       " '__getattribute__',\n",
       " '__getstate__',\n",
       " '__gt__',\n",
       " '__hash__',\n",
       " '__init__',\n",
       " '__init_subclass__',\n",
       " '__le__',\n",
       " '__lt__',\n",
       " '__module__',\n",
       " '__ne__',\n",
       " '__new__',\n",
       " '__reduce__',\n",
       " '__reduce_ex__',\n",
       " '__repr__',\n",
       " '__setattr__',\n",
       " '__sizeof__',\n",
       " '__str__',\n",
       " '__subclasshook__',\n",
       " '__weakref__',\n",
       " 'age',\n",
       " 'get_name',\n",
       " 'name']"
      ]
     },
     "execution_count": 9,
     "metadata": {},
     "output_type": "execute_result"
    }
   ],
   "source": [
    "dir(person)"
   ]
  },
  {
   "cell_type": "code",
   "execution_count": 10,
   "metadata": {},
   "outputs": [
    {
     "ename": "AttributeError",
     "evalue": "'Person' object has no attribute '__name'",
     "output_type": "error",
     "traceback": [
      "\u001b[1;31m---------------------------------------------------------------------------\u001b[0m",
      "\u001b[1;31mAttributeError\u001b[0m                            Traceback (most recent call last)",
      "Cell \u001b[1;32mIn[10], line 11\u001b[0m\n\u001b[0;32m      8\u001b[0m     \u001b[38;5;28;01mreturn\u001b[39;00m person\u001b[38;5;241m.\u001b[39m__name\n\u001b[0;32m     10\u001b[0m person\u001b[38;5;241m=\u001b[39mPerson(\u001b[38;5;124m\"\u001b[39m\u001b[38;5;124mBhimrao\u001b[39m\u001b[38;5;124m\"\u001b[39m,\u001b[38;5;241m34\u001b[39m,\u001b[38;5;124m\"\u001b[39m\u001b[38;5;124mMale\u001b[39m\u001b[38;5;124m\"\u001b[39m)\n\u001b[1;32m---> 11\u001b[0m \u001b[43mget_name\u001b[49m\u001b[43m(\u001b[49m\u001b[43mperson\u001b[49m\u001b[43m)\u001b[49m\n",
      "Cell \u001b[1;32mIn[10], line 8\u001b[0m, in \u001b[0;36mget_name\u001b[1;34m(person)\u001b[0m\n\u001b[0;32m      7\u001b[0m \u001b[38;5;28;01mdef\u001b[39;00m \u001b[38;5;21mget_name\u001b[39m(person):\n\u001b[1;32m----> 8\u001b[0m     \u001b[38;5;28;01mreturn\u001b[39;00m \u001b[43mperson\u001b[49m\u001b[38;5;241;43m.\u001b[39;49m\u001b[43m__name\u001b[49m\n",
      "\u001b[1;31mAttributeError\u001b[0m: 'Person' object has no attribute '__name'"
     ]
    }
   ],
   "source": [
    "class Person:\n",
    "    def __init__(self,name,age,gender):\n",
    "        self.__name=name    ## private variables\n",
    "        self.__age=age      ## private variables\n",
    "        self.gender=gender\n",
    "\n",
    "def get_name(person):\n",
    "    return person.__name\n",
    "\n",
    "person=Person(\"Bhimrao\",34,\"Male\")\n",
    "get_name(person)"
   ]
  },
  {
   "cell_type": "code",
   "execution_count": 11,
   "metadata": {},
   "outputs": [
    {
     "data": {
      "text/plain": [
       "['_Person__age',\n",
       " '_Person__name',\n",
       " '__class__',\n",
       " '__delattr__',\n",
       " '__dict__',\n",
       " '__dir__',\n",
       " '__doc__',\n",
       " '__eq__',\n",
       " '__format__',\n",
       " '__ge__',\n",
       " '__getattribute__',\n",
       " '__getstate__',\n",
       " '__gt__',\n",
       " '__hash__',\n",
       " '__init__',\n",
       " '__init_subclass__',\n",
       " '__le__',\n",
       " '__lt__',\n",
       " '__module__',\n",
       " '__ne__',\n",
       " '__new__',\n",
       " '__reduce__',\n",
       " '__reduce_ex__',\n",
       " '__repr__',\n",
       " '__setattr__',\n",
       " '__sizeof__',\n",
       " '__str__',\n",
       " '__subclasshook__',\n",
       " '__weakref__',\n",
       " 'gender']"
      ]
     },
     "execution_count": 11,
     "metadata": {},
     "output_type": "execute_result"
    }
   ],
   "source": [
    "dir(person) # magic methods"
   ]
  },
  {
   "cell_type": "code",
   "execution_count": 12,
   "metadata": {},
   "outputs": [
    {
     "name": "stdout",
     "output_type": "stream",
     "text": [
      "Bhimrao\n"
     ]
    }
   ],
   "source": [
    "class Person:\n",
    "    def __init__(self,name,age,gender):\n",
    "        self._name=name    ## protected variables\n",
    "        self._age=age      ## protected variables\n",
    "        self.gender=gender\n",
    "\n",
    "class Employee(Person):\n",
    "    def __init__(self,name,age,gender):\n",
    "        super().__init__(name,age,gender)\n",
    "\n",
    "\n",
    "employee=Employee(\"Bhimrao\",34,\"Male\")\n",
    "print(employee._name)"
   ]
  },
  {
   "cell_type": "code",
   "execution_count": 14,
   "metadata": {},
   "outputs": [
    {
     "name": "stdout",
     "output_type": "stream",
     "text": [
      "Bhimrao\n",
      "34\n",
      "35\n",
      "Age cannot be negative.\n"
     ]
    }
   ],
   "source": [
    "## Encapsulation With Getter And Setter\n",
    "class Person:\n",
    "    def __init__(self,name,age):\n",
    "        self.__name=name  ## Private access modifier or variable\n",
    "        self.__age=age ## Private variable\n",
    "\n",
    "    ## getter method for name\n",
    "    def get_name(self):\n",
    "        return self.__name\n",
    "    \n",
    "    ## setter method for name\n",
    "    def set_name(self,name):\n",
    "        self.__name=name\n",
    "\n",
    "    # Getter method for age\n",
    "    def get_age(self):\n",
    "        return self.__age\n",
    "    \n",
    "    # Setter method for age\n",
    "    def set_age(self, age):\n",
    "        if age > 0:\n",
    "            self.__age = age\n",
    "        else:\n",
    "            print(\"Age cannot be negative.\")\n",
    "\n",
    "\n",
    "person=Person(\"Bhimrao\",34)\n",
    "\n",
    "## Access and modify private variables using getter and setter\n",
    "\n",
    "print(person.get_name())\n",
    "print(person.get_age())\n",
    "\n",
    "person.set_age(35)\n",
    "print(person.get_age())\n",
    "\n",
    "person.set_age(-5)\n"
   ]
  },
  {
   "cell_type": "code",
   "execution_count": null,
   "metadata": {},
   "outputs": [],
   "source": []
  }
 ],
 "metadata": {
  "kernelspec": {
   "display_name": "Python 3",
   "language": "python",
   "name": "python3"
  },
  "language_info": {
   "codemirror_mode": {
    "name": "ipython",
    "version": 3
   },
   "file_extension": ".py",
   "mimetype": "text/x-python",
   "name": "python",
   "nbconvert_exporter": "python",
   "pygments_lexer": "ipython3",
   "version": "3.11.0"
  }
 },
 "nbformat": 4,
 "nbformat_minor": 2
}

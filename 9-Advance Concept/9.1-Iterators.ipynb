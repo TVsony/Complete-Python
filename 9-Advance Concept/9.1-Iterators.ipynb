{
 "cells": [
  {
   "cell_type": "markdown",
   "metadata": {},
   "source": [
    "\n",
    "### Iterators in Python\n",
    "An iterator is an object that allows you to traverse through a collection (like lists, tuples, dictionaries, etc.) one element at a time. Python iterators implement two special methods: __iter__() and __next__(). These methods allow objects to be iterated over using a loop, like for loops.\n",
    "\n",
    "Iterable: An object that can return an iterator (e.g., lists, dictionaries, sets). It has an __iter__() method that returns an iterator.\n",
    "Iterator: An object that represents a stream of data, and it returns data one element at a time using the __next__() method until all elements have been accessed.\n",
    "\n",
    "Key Methods:\n",
    "__iter__(): This method returns the iterator object itself. It is called once when the iteration starts.\n",
    "\n",
    "__next__(): This method returns the next value from the iterator. If no more elements are present, it raises the StopIteration exception, which signals the end of the iteration.\n",
    "\n",
    "**Iterators vs. Iterables:**\n",
    "- Iterable: An object that can return an iterator. Examples include lists, tuples, and strings. These objects have an __iter__() method which returns an iterator.\n",
    "- Iterator: An object that represents a stream of data and implements the __next__() method. It returns the next item in the sequence when called with next()."
   ]
  },
  {
   "cell_type": "code",
   "execution_count": 1,
   "metadata": {},
   "outputs": [
    {
     "name": "stdout",
     "output_type": "stream",
     "text": [
      "1\n",
      "2\n",
      "3\n",
      "4\n"
     ]
    }
   ],
   "source": [
    "# Iterator Examples \n",
    "# List as an iterable\n",
    "my_list = [1, 2, 3, 4]\n",
    "\n",
    "# Getting an iterator object from the list\n",
    "my_iterator = iter(my_list)\n",
    "\n",
    "# Iterating through the list using the iterator\n",
    "print(next(my_iterator))  # Output: 1\n",
    "print(next(my_iterator))  # Output: 2\n",
    "print(next(my_iterator))  # Output: 3\n",
    "print(next(my_iterator))  # Output: 4\n",
    "\n",
    "# Further calls to next() will raise StopIteration\n",
    "# print(next(my_iterator))  # Raises StopIteration"
   ]
  },
  {
   "cell_type": "code",
   "execution_count": 2,
   "metadata": {},
   "outputs": [
    {
     "name": "stdout",
     "output_type": "stream",
     "text": [
      "1\n",
      "2\n",
      "3\n",
      "4\n",
      "5\n"
     ]
    }
   ],
   "source": [
    "# Custom Iterator \n",
    "# You can create your own iterator by implementing the __iter__() and __next__() methods in a class\n",
    "\n",
    "class Counter:\n",
    "    def __init__(self, low, high):\n",
    "        self.current = low\n",
    "        self.high = high\n",
    "\n",
    "    # __iter__() method should return the iterator object itself\n",
    "    def __iter__(self):\n",
    "        return self\n",
    "\n",
    "    # __next__() method should return the next value\n",
    "    def __next__(self):\n",
    "        if self.current > self.high:\n",
    "            raise StopIteration  # Signal end of iteration\n",
    "        else:\n",
    "            self.current += 1\n",
    "            return self.current - 1\n",
    "\n",
    "# Create an instance of the Counter class\n",
    "counter = Counter(1, 5)\n",
    "\n",
    "# Use a for loop to iterate through the Counter object\n",
    "for number in counter:\n",
    "    print(number)  \n"
   ]
  },
  {
   "cell_type": "code",
   "execution_count": 3,
   "metadata": {},
   "outputs": [
    {
     "name": "stdout",
     "output_type": "stream",
     "text": [
      "10\n",
      "20\n",
      "30\n"
     ]
    }
   ],
   "source": [
    "# Example of an iterable (list)\n",
    "my_list = [10, 20, 30]\n",
    "\n",
    "# Get an iterator from the iterable\n",
    "my_iter = iter(my_list)\n",
    "\n",
    "print(next(my_iter))  # Output: 10\n",
    "print(next(my_iter))  # Output: 20\n",
    "print(next(my_iter))  # Output: 30"
   ]
  },
  {
   "cell_type": "code",
   "execution_count": 4,
   "metadata": {},
   "outputs": [
    {
     "name": "stdout",
     "output_type": "stream",
     "text": [
      "1\n",
      "2\n",
      "3\n",
      "4\n"
     ]
    }
   ],
   "source": [
    "my_list = [1, 2, 3, 4]\n",
    "\n",
    "# Using a for loop, which internally uses iter() and next()\n",
    "for item in my_list:\n",
    "    print(item)"
   ]
  },
  {
   "cell_type": "code",
   "execution_count": 5,
   "metadata": {},
   "outputs": [
    {
     "name": "stdout",
     "output_type": "stream",
     "text": [
      "1\n",
      "2\n",
      "3\n",
      "4\n",
      "5\n",
      "6\n",
      "7\n",
      "8\n",
      "9\n",
      "10\n"
     ]
    }
   ],
   "source": [
    "class InfiniteCounter:\n",
    "    def __init__(self, start):\n",
    "        self.current = start\n",
    "\n",
    "    def __iter__(self):\n",
    "        return self\n",
    "\n",
    "    def __next__(self):\n",
    "        self.current += 1\n",
    "        return self.current - 1\n",
    "\n",
    "# Infinite loop (use with caution)\n",
    "counter = InfiniteCounter(1)\n",
    "\n",
    "for number in counter:\n",
    "    if number > 10:  # Stopping the loop manually\n",
    "        break\n",
    "    print(number)  \n"
   ]
  },
  {
   "cell_type": "code",
   "execution_count": 6,
   "metadata": {},
   "outputs": [
    {
     "name": "stdout",
     "output_type": "stream",
     "text": [
      "1\n",
      "2\n",
      "3\n",
      "4\n",
      "5\n",
      "6\n"
     ]
    }
   ],
   "source": [
    "my_list=[1,2,3,4,5,6]\n",
    "for i in my_list:\n",
    "    print(i)"
   ]
  },
  {
   "cell_type": "code",
   "execution_count": 7,
   "metadata": {},
   "outputs": [
    {
     "name": "stdout",
     "output_type": "stream",
     "text": [
      "<class 'list_iterator'>\n"
     ]
    }
   ],
   "source": [
    "## Iterator\n",
    "iterator=iter(my_list)\n",
    "print(type(iterator))"
   ]
  },
  {
   "cell_type": "code",
   "execution_count": 8,
   "metadata": {},
   "outputs": [],
   "source": [
    "iterator=iter(my_list)"
   ]
  },
  {
   "cell_type": "code",
   "execution_count": 9,
   "metadata": {},
   "outputs": [
    {
     "name": "stdout",
     "output_type": "stream",
     "text": [
      "1\n"
     ]
    }
   ],
   "source": [
    "try:\n",
    "    print(next(iterator))\n",
    "except StopIteration:\n",
    "    print(\"There are no elements in the iterator\")"
   ]
  },
  {
   "cell_type": "code",
   "execution_count": 10,
   "metadata": {},
   "outputs": [
    {
     "name": "stdout",
     "output_type": "stream",
     "text": [
      "H\n",
      "e\n"
     ]
    }
   ],
   "source": [
    "# String iterator\n",
    "my_string = \"Hello\"\n",
    "string_iterator = iter(my_string)\n",
    "\n",
    "print(next(string_iterator))  # Output: H\n",
    "print(next(string_iterator))  # Output: e"
   ]
  },
  {
   "cell_type": "code",
   "execution_count": null,
   "metadata": {},
   "outputs": [],
   "source": []
  }
 ],
 "metadata": {
  "kernelspec": {
   "display_name": "Python 3",
   "language": "python",
   "name": "python3"
  },
  "language_info": {
   "codemirror_mode": {
    "name": "ipython",
    "version": 3
   },
   "file_extension": ".py",
   "mimetype": "text/x-python",
   "name": "python",
   "nbconvert_exporter": "python",
   "pygments_lexer": "ipython3",
   "version": "3.11.0"
  }
 },
 "nbformat": 4,
 "nbformat_minor": 2
}

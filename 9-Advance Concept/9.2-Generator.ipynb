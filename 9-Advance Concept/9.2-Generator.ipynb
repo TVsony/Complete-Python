{
 "cells": [
  {
   "cell_type": "markdown",
   "metadata": {},
   "source": [
    "#### Generators in Python\n",
    "A generator in Python is a special type of iterator that allows you to iterate over data without storing it in memory. Generators provide a convenient way to create iterators using functions and the yield keyword. They are useful when dealing with large datasets or infinite sequences, as they generate values on the fly (lazy evaluation) rather than precomputing and storing all values.\n",
    "\n",
    "Unlike regular functions, which use return to return a value and terminate the function, generators use yield to produce a value and pause execution, retaining the state of the function so it can be resumed later.\n",
    "\n",
    "**Key Characteristics of Generators:**\n",
    "- **Lazy Evaluation:** Values are generated one at a time, on demand, reducing memory usage.\n",
    "- **State Retention:** Generators remember their state (e.g., local variables) between successive calls.\n",
    "- **Single Use:** Generators can only be iterated once. After all items are produced, they are exhausted."
   ]
  },
  {
   "cell_type": "code",
   "execution_count": 1,
   "metadata": {},
   "outputs": [
    {
     "name": "stdout",
     "output_type": "stream",
     "text": [
      "1\n",
      "2\n",
      "3\n"
     ]
    }
   ],
   "source": [
    "# A generator is created using a function that contains one or more yield statements.\n",
    "# yield pauses the function and returns a value.\n",
    "# The state of the generator is preserved, and calling next() resumes it from where it was paused.\n",
    "\n",
    "\n",
    "def my_generator():\n",
    "    yield 1\n",
    "    yield 2\n",
    "    yield 3\n",
    "\n",
    "# Using the generator\n",
    "gen = my_generator()\n",
    "print(next(gen)) \n",
    "print(next(gen))  \n",
    "print(next(gen))  \n"
   ]
  },
  {
   "cell_type": "code",
   "execution_count": 2,
   "metadata": {},
   "outputs": [
    {
     "name": "stdout",
     "output_type": "stream",
     "text": [
      "1\n",
      "2\n",
      "3\n",
      "4\n"
     ]
    }
   ],
   "source": [
    "# Generators can be used to create functions that work similarly to built-in Python functions, such as range().\n",
    "\n",
    "def custom_range(start, end):\n",
    "    current = start\n",
    "    while current < end:\n",
    "        yield current\n",
    "        current += 1\n",
    "\n",
    "# Using the custom generator\n",
    "for num in custom_range(1, 5):\n",
    "    print(num) "
   ]
  },
  {
   "cell_type": "code",
   "execution_count": 3,
   "metadata": {},
   "outputs": [
    {
     "name": "stdout",
     "output_type": "stream",
     "text": [
      "0\n",
      "1\n",
      "1\n",
      "2\n",
      "3\n",
      "5\n",
      "8\n",
      "13\n",
      "21\n",
      "34\n"
     ]
    }
   ],
   "source": [
    "# Generator that produces the Fibonacci sequence:\n",
    "def fibonacci():\n",
    "    a, b = 0, 1\n",
    "    while True:\n",
    "        yield a\n",
    "        a, b = b, a + b\n",
    "\n",
    "# Using the Fibonacci generator\n",
    "fib = fibonacci()\n",
    "for _ in range(10):  # Print the first 10 Fibonacci numbers\n",
    "    print(next(fib))"
   ]
  },
  {
   "cell_type": "code",
   "execution_count": 7,
   "metadata": {},
   "outputs": [
    {
     "name": "stdout",
     "output_type": "stream",
     "text": [
      "Article 56(1) of the constitution provides that the president shall hold office for a term of five years, from the date on which they enter their office. According to Article 62, an election to fill a vacancy caused by the expiration of the term of office of President shall be completed before the expiration of the term. An election to fill a vacancy in the office of President occurring by reason of their death, resignation or removal, or otherwise shall be held as soon as possible after, and in no case later than six months from, the date of occurrence of the vacancy; and the person elected to fill the vacancy shall, subject to the provisions of Article 56, be entitled to hold office for the full term of five years from the date on which they enter their office.\n",
      "To meet the contingency of an election to the office of President not being completed in time due to unforeseen circumstances like countermanding of an election due to death of a candidate or on account of the postponement of the poll for any valid reason, Article 56(1)(c) provides that the president shall, notwithstanding the expiration of their term, continue to hold office until their successor enters into office.\n"
     ]
    }
   ],
   "source": [
    "# Processing Large Files\n",
    "def read_large_file(file_path):\n",
    "    with open(file_path,'r') as file:\n",
    "        for line in file:\n",
    "            yield line\n",
    "\n",
    "\n",
    "file_path = 'large_file.txt'\n",
    "\n",
    "for line in read_large_file(file_path):\n",
    "    # Process each line\n",
    "    print(line.strip())"
   ]
  },
  {
   "cell_type": "markdown",
   "metadata": {},
   "source": [
    "Difference Between Generator and Iterator:\n",
    "\n",
    "Generator: A simpler way to create iterators. Uses the yield keyword and automatically handles the __iter__() and __next__() methods.\n",
    "\n",
    "Iterator: An object that implements the iterator protocol (__iter__() and __next__() methods) manually.\n",
    "\n",
    "Advantages of Generators:\n",
    "\n",
    "Memory Efficiency: Generators do not store all values in memory; they generate values on demand, making them ideal for large datasets or infinite sequences.\n",
    "\n",
    "Simpler Syntax: Generators use the yield keyword, which simplifies the process of creating iterators. There’s no need to implement __iter__() and __next__() manually.\n",
    "\n",
    "Infinite Data Streams: Generators are perfect for representing infinite sequences, as they only produce one item at a time."
   ]
  },
  {
   "cell_type": "code",
   "execution_count": null,
   "metadata": {},
   "outputs": [],
   "source": []
  }
 ],
 "metadata": {
  "kernelspec": {
   "display_name": "Python 3",
   "language": "python",
   "name": "python3"
  },
  "language_info": {
   "codemirror_mode": {
    "name": "ipython",
    "version": 3
   },
   "file_extension": ".py",
   "mimetype": "text/x-python",
   "name": "python",
   "nbconvert_exporter": "python",
   "pygments_lexer": "ipython3",
   "version": "3.11.0"
  }
 },
 "nbformat": 4,
 "nbformat_minor": 2
}

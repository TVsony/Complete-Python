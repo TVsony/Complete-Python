{
 "cells": [
  {
   "cell_type": "markdown",
   "metadata": {},
   "source": [
    "\n",
    "#### Decorators in Python\n",
    "A decorator in Python is a function that allows you to add functionality to an existing function or method without modifying its structure. Decorators are a powerful tool for code reuse and can help make code more concise and maintainable.\n",
    "\n",
    "Decorators are often used in scenarios where you want to modify the behavior of a function, such as logging, access control, memoization, etc.\n",
    "\n",
    "**How Decorators Work:**\n",
    "\n",
    "A decorator is essentially a wrapper function. The wrapper takes a function as an argument, extends its behavior, and then returns a new function. Decorators are applied using the @decorator_name syntax just before the function definition."
   ]
  },
  {
   "cell_type": "code",
   "execution_count": 1,
   "metadata": {},
   "outputs": [
    {
     "name": "stdout",
     "output_type": "stream",
     "text": [
      "Something before the function\n",
      "Hello!\n",
      "Something after the function\n"
     ]
    }
   ],
   "source": [
    "# Basic Syntax of a Decorator\n",
    "def my_decorator(func):\n",
    "    def wrapper():\n",
    "        print(\"Something before the function\")\n",
    "        func()  # Call the original function\n",
    "        print(\"Something after the function\")\n",
    "    return wrapper\n",
    "\n",
    "@my_decorator  # Applying the decorator\n",
    "def say_hello():\n",
    "    print(\"Hello!\")\n",
    "\n",
    "# Call the function\n",
    "say_hello()\n"
   ]
  },
  {
   "cell_type": "code",
   "execution_count": 2,
   "metadata": {},
   "outputs": [
    {
     "name": "stdout",
     "output_type": "stream",
     "text": [
      "Something before the function\n",
      "Hello!\n",
      "Something after the function\n"
     ]
    }
   ],
   "source": [
    "def say_hello():\n",
    "    print(\"Hello!\")\n",
    "\n",
    "say_hello = my_decorator(say_hello)  # Manually applying the decorator\n",
    "say_hello()\n"
   ]
  },
  {
   "cell_type": "markdown",
   "metadata": {},
   "source": [
    "**Decorators with Arguments**\n",
    "\n",
    "If the function you want to decorate takes arguments, the decorator’s wrapper function needs to handle those arguments using *args and **kwargs:"
   ]
  },
  {
   "cell_type": "code",
   "execution_count": 3,
   "metadata": {},
   "outputs": [
    {
     "name": "stdout",
     "output_type": "stream",
     "text": [
      "Before the function is called\n",
      "After the function is called\n",
      "Result: 8\n"
     ]
    }
   ],
   "source": [
    "def my_decorator(func):\n",
    "    def wrapper(*args, **kwargs):\n",
    "        print(\"Before the function is called\")\n",
    "        result = func(*args, **kwargs)  # Pass arguments to the original function\n",
    "        print(\"After the function is called\")\n",
    "        return result\n",
    "    return wrapper\n",
    "\n",
    "@my_decorator\n",
    "def add(a, b):\n",
    "    return a + b\n",
    "\n",
    "# Call the function\n",
    "result = add(3, 5)\n",
    "print(f\"Result: {result}\")\n"
   ]
  },
  {
   "cell_type": "code",
   "execution_count": 4,
   "metadata": {},
   "outputs": [
    {
     "name": "stdout",
     "output_type": "stream",
     "text": [
      "Executing function: multiply\n",
      "Function multiply executed\n",
      "20\n"
     ]
    }
   ],
   "source": [
    "# 1. Logging Decorator\n",
    "# A decorator that logs the execution of a function\n",
    "\n",
    "def log_execution(func):\n",
    "    def wrapper(*args, **kwargs):\n",
    "        print(f\"Executing function: {func.__name__}\")\n",
    "        result = func(*args, **kwargs)\n",
    "        print(f\"Function {func.__name__} executed\")\n",
    "        return result\n",
    "    return wrapper\n",
    "\n",
    "@log_execution\n",
    "def multiply(a, b):\n",
    "    return a * b\n",
    "\n",
    "result = multiply(4, 5)\n",
    "print(result)\n",
    "\n"
   ]
  },
  {
   "cell_type": "code",
   "execution_count": 5,
   "metadata": {},
   "outputs": [
    {
     "name": "stdout",
     "output_type": "stream",
     "text": [
      "Finished slow function\n",
      "slow_function took 2.0010 seconds to execute\n"
     ]
    }
   ],
   "source": [
    "# 2. Timing Decorator\n",
    "# A decorator that calculates the time taken to execute a function\n",
    "import time\n",
    "\n",
    "def timing_decorator(func):\n",
    "    def wrapper(*args, **kwargs):\n",
    "        start_time = time.time()\n",
    "        result = func(*args, **kwargs)\n",
    "        end_time = time.time()\n",
    "        print(f\"{func.__name__} took {end_time - start_time:.4f} seconds to execute\")\n",
    "        return result\n",
    "    return wrapper\n",
    "\n",
    "@timing_decorator\n",
    "def slow_function():\n",
    "    time.sleep(2)  # Simulates a slow process\n",
    "    print(\"Finished slow function\")\n",
    "\n",
    "slow_function()\n",
    "\n"
   ]
  },
  {
   "cell_type": "code",
   "execution_count": 6,
   "metadata": {},
   "outputs": [
    {
     "name": "stdout",
     "output_type": "stream",
     "text": [
      "Dashboard accessed\n",
      "Access Denied: User not authenticated\n"
     ]
    }
   ],
   "source": [
    "# 3. Access Control (Authentication) Decorator\n",
    "#A decorator that restricts access to a function based on a condition (e.g., user authentication)\n",
    "\n",
    "def requires_authentication(func):\n",
    "    def wrapper(user_authenticated):\n",
    "        if user_authenticated:\n",
    "            return func(user_authenticated)\n",
    "        else:\n",
    "            print(\"Access Denied: User not authenticated\")\n",
    "    return wrapper\n",
    "\n",
    "@requires_authentication\n",
    "def view_dashboard(user_authenticated):\n",
    "    print(\"Dashboard accessed\")\n",
    "\n",
    "# Test the decorator\n",
    "view_dashboard(True)  # Output: Dashboard accessed\n",
    "view_dashboard(False)  # Output: Access Denied: User not authenticated\n"
   ]
  },
  {
   "cell_type": "code",
   "execution_count": 7,
   "metadata": {},
   "outputs": [
    {
     "name": "stdout",
     "output_type": "stream",
     "text": [
      "Decorator 1\n",
      "Decorator 2\n",
      "Original function\n"
     ]
    }
   ],
   "source": [
    "# Chaining Multiple Decorators:\n",
    "# You can apply multiple decorators to a single function. The decorators are applied from top to bottom.\n",
    "def decorator1(func):\n",
    "    def wrapper():\n",
    "        print(\"Decorator 1\")\n",
    "        func()\n",
    "    return wrapper\n",
    "\n",
    "def decorator2(func):\n",
    "    def wrapper():\n",
    "        print(\"Decorator 2\")\n",
    "        func()\n",
    "    return wrapper\n",
    "\n",
    "@decorator1\n",
    "@decorator2\n",
    "def my_function():\n",
    "    print(\"Original function\")\n",
    "\n",
    "my_function()\n"
   ]
  },
  {
   "cell_type": "code",
   "execution_count": 8,
   "metadata": {},
   "outputs": [
    {
     "name": "stdout",
     "output_type": "stream",
     "text": [
      "Hello, Bhimrao!\n",
      "Hello, Bhimrao!\n",
      "Hello, Bhimrao!\n"
     ]
    }
   ],
   "source": [
    "# Decorators with Parameters:\n",
    "# Sometimes, you want to pass arguments to the decorator itself. This can be done by adding another level of function nesting.\n",
    "\n",
    "def repeat(n):\n",
    "    def decorator(func):\n",
    "        def wrapper(*args, **kwargs):\n",
    "            for _ in range(n):\n",
    "                func(*args, **kwargs)\n",
    "        return wrapper\n",
    "    return decorator\n",
    "\n",
    "@repeat(3)  # Repeat the function 3 times\n",
    "def greet(name):\n",
    "    print(f\"Hello, {name}!\")\n",
    "\n",
    "greet(\"Bhimrao\")\n"
   ]
  },
  {
   "cell_type": "markdown",
   "metadata": {},
   "source": [
    "Use Cases of Decorators:\n",
    "\n",
    "Logging: Automatically log the execution of functions without modifying the functions themselves.\n",
    "\n",
    "Access Control: Implement user authentication or permissions checks.\n",
    "\n",
    "Timing: Measure the performance of certain parts of your code.\n",
    "\n",
    "Caching: Memoize results of functions to avoid expensive recomputation.\n",
    "\n",
    "Validation: Validate inputs before passing them to a function.\n",
    "\n",
    "Decorators in Python provide a flexible way to modify or extend the behavior of functions and methods. By using decorators, you can keep your code clean, reusable, and easy to maintain without duplicating code logic."
   ]
  },
  {
   "cell_type": "code",
   "execution_count": 9,
   "metadata": {},
   "outputs": [],
   "source": [
    "## Function\n",
    "## Closures\n",
    "## Decorators "
   ]
  },
  {
   "cell_type": "code",
   "execution_count": 10,
   "metadata": {},
   "outputs": [
    {
     "data": {
      "text/plain": [
       "'Welcome to the world of Advanced Python'"
      ]
     },
     "execution_count": 10,
     "metadata": {},
     "output_type": "execute_result"
    }
   ],
   "source": [
    "# Function copy\n",
    "def welcome():\n",
    "    return \"Welcome to the world of Advanced Python\"\n",
    "\n",
    "welcome()"
   ]
  },
  {
   "cell_type": "code",
   "execution_count": 11,
   "metadata": {},
   "outputs": [],
   "source": [
    "Wel = welcome # copy function \n",
    "Wel()\n",
    "\n",
    "del welcome  # delete function"
   ]
  },
  {
   "cell_type": "code",
   "execution_count": 12,
   "metadata": {},
   "outputs": [
    {
     "data": {
      "text/plain": [
       "'Welcome to the world of Advanced Python'"
      ]
     },
     "execution_count": 12,
     "metadata": {},
     "output_type": "execute_result"
    }
   ],
   "source": [
    "Wel()  # checking function is copy or not "
   ]
  },
  {
   "cell_type": "code",
   "execution_count": 13,
   "metadata": {},
   "outputs": [],
   "source": [
    "## Closures a methods within method \n",
    "def main_welcome():\n",
    "    msg = \"Welcome to Python\"\n",
    "    def sub_welcome_method():\n",
    "        print(\"Welcome to the advanced Python\")\n",
    "        print(\"Please learn this methods properly\")\n",
    "    \n",
    "    return sub_welcome_method()"
   ]
  },
  {
   "cell_type": "code",
   "execution_count": 14,
   "metadata": {},
   "outputs": [
    {
     "name": "stdout",
     "output_type": "stream",
     "text": [
      "Welcome to the advanced Python\n",
      "Please learn this methods properly\n"
     ]
    }
   ],
   "source": [
    "main_welcome()"
   ]
  },
  {
   "cell_type": "code",
   "execution_count": 18,
   "metadata": {},
   "outputs": [],
   "source": [
    "# Decorator\n",
    "def main_welcome(func):\n",
    "    msg = \"Welcome to Python\"\n",
    "    def sub_welcome_method():\n",
    "        print(\"Welcome to the advanced Python\")\n",
    "        func()\n",
    "        print(\"Please learn this methods properly\")\n",
    "    \n",
    "    return sub_welcome_method()"
   ]
  },
  {
   "cell_type": "code",
   "execution_count": 19,
   "metadata": {},
   "outputs": [
    {
     "name": "stdout",
     "output_type": "stream",
     "text": [
      "Welcome to the course Advanced Python\n"
     ]
    }
   ],
   "source": [
    "def course_introduction():\n",
    "    print(\"Welcome to the course Advanced Python\")\n",
    "\n",
    "course_introduction()"
   ]
  },
  {
   "cell_type": "code",
   "execution_count": 20,
   "metadata": {},
   "outputs": [
    {
     "name": "stdout",
     "output_type": "stream",
     "text": [
      "Welcome to the advanced Python\n",
      "Welcome to the course Advanced Python\n",
      "Please learn this methods properly\n"
     ]
    }
   ],
   "source": [
    "main_welcome(course_introduction)"
   ]
  },
  {
   "cell_type": "code",
   "execution_count": 21,
   "metadata": {},
   "outputs": [
    {
     "name": "stdout",
     "output_type": "stream",
     "text": [
      "Welcome to the advanced Python\n",
      "Welcome to the course Advanced Python\n",
      "Please learn this methods properly\n"
     ]
    }
   ],
   "source": [
    "@main_welcome\n",
    "def course_introduction():\n",
    "    print(\"Welcome to the course Advanced Python\")"
   ]
  },
  {
   "cell_type": "code",
   "execution_count": 22,
   "metadata": {},
   "outputs": [],
   "source": [
    "## Ex 2 Decorators \n",
    "\n",
    "def my_decorator(func):\n",
    "    def wrapper():\n",
    "        print(\"Something is happening before the function is called.\")\n",
    "        func()\n",
    "        print(\"Something is happening after the function is called.\")\n",
    "    return wrapper"
   ]
  },
  {
   "cell_type": "code",
   "execution_count": 23,
   "metadata": {},
   "outputs": [],
   "source": [
    "@my_decorator\n",
    "def say_hello():\n",
    "    print('Hello!')"
   ]
  },
  {
   "cell_type": "code",
   "execution_count": 24,
   "metadata": {},
   "outputs": [
    {
     "name": "stdout",
     "output_type": "stream",
     "text": [
      "Something is happening before the function is called.\n",
      "Hello!\n",
      "Something is happening after the function is called.\n"
     ]
    }
   ],
   "source": [
    "say_hello()"
   ]
  },
  {
   "cell_type": "code",
   "execution_count": 25,
   "metadata": {},
   "outputs": [],
   "source": [
    "# Ex 3 Decoretors with arguments \n",
    "\n",
    "def repeat(n):\n",
    "    def decorator(func):\n",
    "        def wrapper(*args, **kwargs):\n",
    "            for _ in range(n):\n",
    "                func(*args, **kwargs)\n",
    "        return wrapper\n",
    "    return decorator"
   ]
  },
  {
   "cell_type": "code",
   "execution_count": 26,
   "metadata": {},
   "outputs": [],
   "source": [
    "@repeat(3)\n",
    "def say_hello():\n",
    "    print(\"Hello\")"
   ]
  },
  {
   "cell_type": "code",
   "execution_count": 28,
   "metadata": {},
   "outputs": [
    {
     "name": "stdout",
     "output_type": "stream",
     "text": [
      "Hello\n",
      "Hello\n",
      "Hello\n"
     ]
    }
   ],
   "source": [
    "say_hello()"
   ]
  },
  {
   "cell_type": "code",
   "execution_count": null,
   "metadata": {},
   "outputs": [],
   "source": []
  }
 ],
 "metadata": {
  "kernelspec": {
   "display_name": "Python 3",
   "language": "python",
   "name": "python3"
  },
  "language_info": {
   "codemirror_mode": {
    "name": "ipython",
    "version": 3
   },
   "file_extension": ".py",
   "mimetype": "text/x-python",
   "name": "python",
   "nbconvert_exporter": "python",
   "pygments_lexer": "ipython3",
   "version": "3.11.0"
  }
 },
 "nbformat": 4,
 "nbformat_minor": 2
}

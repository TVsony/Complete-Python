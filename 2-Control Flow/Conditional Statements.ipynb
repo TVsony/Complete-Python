{
 "cells": [
  {
   "cell_type": "markdown",
   "metadata": {},
   "source": [
    "##### Conditional Statements (if, elif, else)\n",
    "- Introduction to Conditional Statements\n",
    "- if Statement\n",
    "- else Statement\n",
    "- elif Statement\n",
    "- Nested Conditional Statements\n",
    "- Practical Examples\n",
    "- Common Errors and Best Practices"
   ]
  },
  {
   "cell_type": "code",
   "execution_count": 1,
   "metadata": {},
   "outputs": [
    {
     "name": "stdout",
     "output_type": "stream",
     "text": [
      "You are allowed to vote in the elections\n"
     ]
    }
   ],
   "source": [
    "# If Statement print if the the conditions is true \n",
    "\n",
    "age = 20 \n",
    "\n",
    "if age >= 18:\n",
    "    print(\"You are allowed to vote in the elections\")"
   ]
  },
  {
   "cell_type": "code",
   "execution_count": null,
   "metadata": {},
   "outputs": [],
   "source": [
    "'''\n",
    "if test1:\n",
    "    statements1\n",
    "elif test2:\n",
    "    statements2 \n",
    "else:\n",
    "    statements3 \n",
    "\n",
    "'''"
   ]
  },
  {
   "cell_type": "code",
   "execution_count": 2,
   "metadata": {},
   "outputs": [
    {
     "data": {
      "text/plain": [
       "True"
      ]
     },
     "execution_count": 2,
     "metadata": {},
     "output_type": "execute_result"
    }
   ],
   "source": [
    "age >= 18 "
   ]
  },
  {
   "cell_type": "code",
   "execution_count": 3,
   "metadata": {},
   "outputs": [
    {
     "name": "stdout",
     "output_type": "stream",
     "text": [
      "You are a miner\n"
     ]
    }
   ],
   "source": [
    "## else\n",
    "## The else statement executes a block of code if the condition in the if statement is False.\n",
    "age = 16 \n",
    "\n",
    "if age >= 18:\n",
    "    print(\"You are eligible for voting\")\n",
    "\n",
    "else: \n",
    "    print(\"You are a miner\")"
   ]
  },
  {
   "cell_type": "code",
   "execution_count": 4,
   "metadata": {},
   "outputs": [
    {
     "data": {
      "text/plain": [
       "False"
      ]
     },
     "execution_count": 4,
     "metadata": {},
     "output_type": "execute_result"
    }
   ],
   "source": [
    "age >= 18 "
   ]
  },
  {
   "cell_type": "code",
   "execution_count": 5,
   "metadata": {},
   "outputs": [
    {
     "name": "stdout",
     "output_type": "stream",
     "text": [
      "You are teenager\n"
     ]
    }
   ],
   "source": [
    "## elif\n",
    "## The elif statement allows you to check multiple conditions. It stands for \"else if\"\n",
    "\n",
    "age = 17 \n",
    "\n",
    "if age < 13:\n",
    "    print(\"You are child\")\n",
    "elif age <18:\n",
    "    print(\"You are teenager\")\n",
    "\n",
    "else:\n",
    "    print(\"You are adult\")"
   ]
  },
  {
   "cell_type": "code",
   "execution_count": 6,
   "metadata": {},
   "outputs": [],
   "source": [
    "## Nested Condiitonal Statements\n",
    "# You can place one or more if, elif, or else statements inside another if, elif, or else statement to create nested conditional statements"
   ]
  },
  {
   "cell_type": "code",
   "execution_count": 7,
   "metadata": {},
   "outputs": [
    {
     "name": "stdout",
     "output_type": "stream",
     "text": [
      "The number is positive \n",
      "Number is odd\n"
     ]
    }
   ],
   "source": [
    "# Write python Program to check number even or odd \n",
    "\n",
    "num = int(input(\"Enter a number: \"))\n",
    "\n",
    "if num>0:\n",
    "    print(\"The number is positive \")\n",
    "\n",
    "    if num%2==0: \n",
    "        print(\"The number is even\")\n",
    "\n",
    "    else:\n",
    "        print(\"Number is odd\")\n",
    "\n",
    "else:\n",
    "    print(\"The num is zero which has nutral one\")"
   ]
  },
  {
   "cell_type": "code",
   "execution_count": 17,
   "metadata": {},
   "outputs": [
    {
     "name": "stdout",
     "output_type": "stream",
     "text": [
      "2024 is a leap year\n"
     ]
    }
   ],
   "source": [
    "# Write Python program to identify the year is normal or leaf year \n",
    "\n",
    "year = int(input(\"Enter a year: \"))\n",
    "\n",
    "if year % 4 == 0:\n",
    "    if year % 100 == 0:\n",
    "        if year % 400 == 0:\n",
    "            print(year, \"is a leap year\")\n",
    "        else:\n",
    "            print(year, \"is not a leap year\")\n",
    "    else:\n",
    "        print(year, \"is a leap year\")\n",
    "else:\n",
    "    print(year, \"is not a leap year\")\n"
   ]
  },
  {
   "cell_type": "code",
   "execution_count": 19,
   "metadata": {},
   "outputs": [
    {
     "name": "stdout",
     "output_type": "stream",
     "text": [
      "Result:  9.0\n"
     ]
    }
   ],
   "source": [
    "# Write python program to create simple calculator \n",
    "\n",
    "num1 = float(input(\"Enter a first number\"))\n",
    "num2 = float(input(\"Enter a second number\"))\n",
    "\n",
    "opration = input(\"Enter opration ( +, - , *, /): \")\n",
    "\n",
    "if opration == '+':\n",
    "    result = num1 + num2\n",
    "\n",
    "elif opration == '-':\n",
    "    result =  num1 - num2\n",
    "\n",
    "elif opration == '*':\n",
    "    result = num1 * num2 \n",
    "\n",
    "elif opration == '/':\n",
    "    if num2 !=0:\n",
    "        print (result = \"Error! division by zero\")\n",
    "    else:\n",
    "        result = num1 / num2\n",
    "    \n",
    "else:\n",
    "    result = \"Invalid Opration \"\n",
    "\n",
    "print(\"Result: \",result)\n",
    "\n"
   ]
  },
  {
   "cell_type": "code",
   "execution_count": 20,
   "metadata": {},
   "outputs": [
    {
     "name": "stdout",
     "output_type": "stream",
     "text": [
      "Ticket Price : $25\n"
     ]
    }
   ],
   "source": [
    "### Determine the ticket price based on age and whether the person is a student.\n",
    "\n",
    "age = int(input(\"Enter a age : \"))\n",
    "is_student = input(\"Are you a Student ? (yes/ no ):\").lower()\n",
    "\n",
    "if age < 5:\n",
    "    price =\"Free\"\n",
    "\n",
    "elif age <= 12:\n",
    "    price = \"$10\"\n",
    "\n",
    "elif age <=17:\n",
    "    if is_student == 'yes':\n",
    "        price = \"$12\"\n",
    "    else:\n",
    "        price = '$15'\n",
    "\n",
    "elif age <= 64:\n",
    "    if is_student == 'yes':\n",
    "        price = '$18'\n",
    "    else:\n",
    "        price = '$25'\n",
    "else:\n",
    "    price = '$20'\n",
    "print(\"Ticket Price :\", price)                   "
   ]
  },
  {
   "cell_type": "code",
   "execution_count": 24,
   "metadata": {},
   "outputs": [
    {
     "name": "stdout",
     "output_type": "stream",
     "text": [
      "Bonus Amount : 9600.00\n"
     ]
    }
   ],
   "source": [
    "# Calculate an employee's bonus based on their performance rating and years of service.  \n",
    "\n",
    "year = int (input(\"Enter years of service: \"))\n",
    "rating = float(input(\"Enter a performance rating (1.0 to 5.0):\"))\n",
    "\n",
    "if rating >=4.5:\n",
    "    if year > 10:\n",
    "        bonus = 20 \n",
    "    elif year > 5:\n",
    "        bonus = 15 \n",
    "    else:\n",
    "        bonus = 10 \n",
    "elif rating >=3.5:\n",
    "    if year > 10:\n",
    "        bonus = 15\n",
    "    elif year >=5:\n",
    "        bonus = 10 \n",
    "    else:\n",
    "        bonus = 5 \n",
    "else:\n",
    "     bonus = 0 \n",
    "\n",
    "# calculation \n",
    "salary = float(input(\"Enter a current salary: \"))\n",
    "bonus_amount = salary * bonus / 100 \n",
    "\n",
    "print(\"Bonus Amount : {:.2f}\".format(bonus_amount))\n"
   ]
  },
  {
   "cell_type": "code",
   "execution_count": 25,
   "metadata": {},
   "outputs": [
    {
     "name": "stdout",
     "output_type": "stream",
     "text": [
      "Username not found\n"
     ]
    }
   ],
   "source": [
    "# User Login System \n",
    "Store_username = \"admin\"\n",
    "Stored_password = 'password123'\n",
    "\n",
    "# Take a user input \n",
    "\n",
    "username = input(\"Enter username: \")\n",
    "password = input(\"Enter password: \")\n",
    "\n",
    "# Checking login \n",
    "if username == Store_username:\n",
    "    if password == Stored_password:\n",
    "        print('login succesful!')\n",
    "    else:\n",
    "        print(\"Incorrect password\")\n",
    "\n",
    "else:\n",
    "    print(\"Username not found\")"
   ]
  },
  {
   "cell_type": "code",
   "execution_count": null,
   "metadata": {},
   "outputs": [],
   "source": []
  }
 ],
 "metadata": {
  "kernelspec": {
   "display_name": "Python 3",
   "language": "python",
   "name": "python3"
  },
  "language_info": {
   "codemirror_mode": {
    "name": "ipython",
    "version": 3
   },
   "file_extension": ".py",
   "mimetype": "text/x-python",
   "name": "python",
   "nbconvert_exporter": "python",
   "pygments_lexer": "ipython3",
   "version": "3.11.0"
  }
 },
 "nbformat": 4,
 "nbformat_minor": 2
}

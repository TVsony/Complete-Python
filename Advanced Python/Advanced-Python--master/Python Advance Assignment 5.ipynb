{
 "cells": [
  {
   "cell_type": "markdown",
   "id": "748021a2-8e82-4663-9c89-2250c856d5da",
   "metadata": {},
   "source": [
    "## 1. Explain super() in the context of inheritance.\n",
    "\n",
    "Object-oriented programming, super() is a built-in function in Python used to give access to methods and properties of a parent or sibling class. It is particularly useful for extending and customizing inherited methods without completely overriding them"
   ]
  },
  {
   "cell_type": "markdown",
   "id": "fa34eb16-fc95-4e4b-a561-58659e645e6a",
   "metadata": {},
   "source": [
    "### Inheritance and super()\n",
    "Inheritance: Allows a class (child or subclass) to inherit attributes and methods from another class (parent or superclass). This promotes code reuse and hierarchical organization.\n",
    "\n",
    "super() Function: Used within a subclass to call methods and access attributes from its superclass. This is useful when you want to extend the functionality of the inherited methods."
   ]
  },
  {
   "cell_type": "code",
   "execution_count": 2,
   "id": "8dbcc1a5-9cd1-45c7-8162-4cc795fa2315",
   "metadata": {},
   "outputs": [],
   "source": [
    "# Syntax\n",
    "# super().method()"
   ]
  },
  {
   "cell_type": "markdown",
   "id": "41062e71-6cb9-4297-8161-7222cb66c6a4",
   "metadata": {},
   "source": [
    "**Define the Parent Class**"
   ]
  },
  {
   "cell_type": "code",
   "execution_count": 3,
   "id": "e7a0c732-7d36-42ec-9273-c4ede32911e2",
   "metadata": {},
   "outputs": [],
   "source": [
    "class Vehicle:\n",
    "    def __init__(self, make, model):\n",
    "        self.make = make\n",
    "        self.model = model\n",
    "\n",
    "    def display_info(self):\n",
    "        print(f\"Vehicle Make: {self.make}, Model: {self.model}\")"
   ]
  },
  {
   "cell_type": "markdown",
   "id": "21084cd0-61b6-44f3-821f-eded240cde3b",
   "metadata": {},
   "source": [
    "**Define the Child Class and Use super()**"
   ]
  },
  {
   "cell_type": "code",
   "execution_count": 4,
   "id": "9a88d663-abc9-4c24-ad4d-cb0308d36e63",
   "metadata": {},
   "outputs": [],
   "source": [
    "class Car(Vehicle):\n",
    "    def __init__(self, make, model, year):\n",
    "        super().__init__(make, model)  # Call the parent class's __init__ method\n",
    "        self.year = year\n",
    "\n",
    "    def display_info(self):\n",
    "        super().display_info()  # Call the parent class's display_info method\n",
    "        print(f\"Year: {self.year}\")"
   ]
  },
  {
   "cell_type": "markdown",
   "id": "1f8ca20d-cfd4-4b9e-966d-eb60ebe3eb68",
   "metadata": {},
   "source": [
    "**Create Objects and Demonstrate super()**"
   ]
  },
  {
   "cell_type": "code",
   "execution_count": 5,
   "id": "155ef708-cde1-4af3-83d9-471fea597e39",
   "metadata": {},
   "outputs": [
    {
     "name": "stdout",
     "output_type": "stream",
     "text": [
      "Vehicle Make: Toyota, Model: Camry\n",
      "Year: 2020\n"
     ]
    }
   ],
   "source": [
    "# Creating an instance of Car\n",
    "my_car = Car(\"Toyota\", \"Camry\", 2020)\n",
    "# Calling the display_info method\n",
    "my_car.display_info()"
   ]
  },
  {
   "cell_type": "markdown",
   "id": "fb4c1568-8035-4415-8f88-5368bec0e884",
   "metadata": {},
   "source": [
    "**Why Use super()**\n",
    "\n",
    "Code Reusability:\n",
    "\n",
    "Reuse existing code in parent classes without duplicating it in child classes.\n",
    "\n",
    "Maintainability:\n",
    "\n",
    "Easier to maintain and update code since changes in the parent class methods automatically propagate to child classes.\n",
    "\n",
    "Multiple Inheritance:\n",
    "\n",
    "Helps in resolving the method resolution order (MRO) in complex inheritance hierarchies involving multiple inheritance.\n",
    "Advanced Usage: Multiple Inheritance\n",
    "\n",
    "In cases of multiple inheritance, super() ensures that the methods are resolved in a consistent order following the method resolution order (MRO).\n"
   ]
  },
  {
   "cell_type": "code",
   "execution_count": 6,
   "id": "0e98c9b3-3566-4553-8fcf-52cc30ef6305",
   "metadata": {},
   "outputs": [
    {
     "name": "stdout",
     "output_type": "stream",
     "text": [
      "Process in D\n",
      "Process in B\n",
      "Process in C\n",
      "Process in A\n"
     ]
    }
   ],
   "source": [
    "class A:\n",
    "    def process(self):\n",
    "        print(\"Process in A\")\n",
    "\n",
    "class B(A):\n",
    "    def process(self):\n",
    "        print(\"Process in B\")\n",
    "        super().process()\n",
    "\n",
    "class C(A):\n",
    "    def process(self):\n",
    "        print(\"Process in C\")\n",
    "        super().process()\n",
    "\n",
    "class D(B, C):\n",
    "    def process(self):\n",
    "        print(\"Process in D\")\n",
    "        super().process()\n",
    "\n",
    "d = D()\n",
    "d.process()\n"
   ]
  },
  {
   "cell_type": "markdown",
   "id": "2a4db4c3-380f-4411-9924-1585f8c60125",
   "metadata": {},
   "source": [
    "- super(): Allows child classes to call methods and constructors from their parent class, facilitating code reuse and extension.\n",
    "- Use Cases: Initializing parent class attributes, extending parent class methods, and managing multiple inheritance scenarios.\n",
    "- Benefits: Enhances code maintainability, readability, and consistency across complex inheritance hierarchies."
   ]
  },
  {
   "cell_type": "markdown",
   "id": "f81a16fb-1f4a-4614-9ebc-9d0d54b4b718",
   "metadata": {},
   "source": [
    "## 2. Describe the file-handling system.\n",
    "File handling is a crucial aspect of programming that involves creating, opening, reading, writing, and closing files. It allows programs to persist data, interact with users, and manage information efficiently. Here's a comprehensive guide to the file-handling system in Python, including various modes and operations."
   ]
  },
  {
   "cell_type": "markdown",
   "id": "79df5c2f-3882-403e-9864-431701b5ec9c",
   "metadata": {},
   "source": [
    "** Basic File Operations **\n",
    "\n",
    "Opening a File:\n",
    "\n",
    "Use the open() function to open a file. This function returns a file object, which provides methods for interacting with the file’s contents.\n",
    "Syntax: open(filename, mode)\n",
    "\n",
    "filename: Name of the file to be opened.\n",
    "\n",
    "mode: The mode in which the file is opened.\n",
    "\n",
    "File Modes:\n",
    "\n",
    "- 'r': Read (default mode) - Opens a file for reading. If the file does not exist, an error is raised.\n",
    "- 'w': Write - Opens a file for writing. Creates a new file or truncates the existing file.\n",
    "- 'a': Append - Opens a file for appending. Data is added to the end of the file.\n",
    "- 'b': Binary mode - Used for binary files (e.g., images). Combine with other modes (e.g., 'rb', 'wb').\n",
    "- 'x': Exclusive creation - Creates a new file. If the file exists, an error is raised.\n",
    "- 't': Text mode (default) - Used for text files. Combine with other modes (e.g., 'rt', 'wt').\n",
    "- \n",
    "Reading from a File:\n",
    "\n",
    "Use methods like read(), readline(), or readlines() to read data from a file\n",
    "\n",
    "open(): Opens a file in a specified mode.\n",
    "\n",
    "read(), readline(), readlines(): For reading data.\n",
    "\n",
    "write(), writelines(): For writing data.\n",
    "\n",
    "close(): For closing a file (automatically handled with with statement).\n",
    "\n",
    "seek(), tell(): For moving and retrieving the file pointer position.\n"
   ]
  },
  {
   "cell_type": "code",
   "execution_count": 7,
   "id": "c3e2e20b-4c7a-4110-bcc8-5afda631b68f",
   "metadata": {},
   "outputs": [
    {
     "name": "stdout",
     "output_type": "stream",
     "text": [
      "Hello\n",
      "Appended text.\n"
     ]
    }
   ],
   "source": [
    "with open('example.txt', 'r') as file:\n",
    "    content = file.read()\n",
    "    print(content)"
   ]
  },
  {
   "cell_type": "markdown",
   "id": "5ab90de0-1c5e-419a-8705-098e2b7bb5d0",
   "metadata": {},
   "source": [
    "**Writing to a File:**"
   ]
  },
  {
   "cell_type": "code",
   "execution_count": 8,
   "id": "3aea831d-4255-479d-a638-5f775c482198",
   "metadata": {},
   "outputs": [],
   "source": [
    "with open('example.txt', 'w') as file:\n",
    "    file.write(\"Hello, World!\")"
   ]
  },
  {
   "cell_type": "markdown",
   "id": "62ad06bf-5910-416f-b9db-bca3a94b5918",
   "metadata": {},
   "source": [
    "**Appending to a File:**"
   ]
  },
  {
   "cell_type": "code",
   "execution_count": 9,
   "id": "3ddb82e0-1b20-49cc-9c24-23f064ccce4e",
   "metadata": {},
   "outputs": [],
   "source": [
    "with open('example.txt', 'a') as file:\n",
    "    file.write(\"\\nAppending a new line.\")"
   ]
  },
  {
   "cell_type": "markdown",
   "id": "ecf5f06e-0687-450b-9d9c-26165e257009",
   "metadata": {},
   "source": [
    "**Closing a File:**"
   ]
  },
  {
   "cell_type": "code",
   "execution_count": 11,
   "id": "0a521b72-e976-43ac-b490-96846e2cae9d",
   "metadata": {},
   "outputs": [],
   "source": [
    "file = open('example.txt', 'r')\n",
    "content = file.read()\n",
    "file.close()"
   ]
  },
  {
   "cell_type": "markdown",
   "id": "c4941814-5bda-47a4-a4d9-91c41f4b68d2",
   "metadata": {},
   "source": [
    "**Advanced File Handling Operations**\n",
    "\n",
    "- Reading Specific Amounts of Data:\n",
    "- Reading Line by Line:\n",
    "- Writing Multiple Lines:"
   ]
  },
  {
   "cell_type": "code",
   "execution_count": 12,
   "id": "6010219f-8efa-489a-b841-a04d836756ad",
   "metadata": {},
   "outputs": [
    {
     "name": "stdout",
     "output_type": "stream",
     "text": [
      "Hello, Wor\n"
     ]
    }
   ],
   "source": [
    "with open('example.txt', 'r') as file:\n",
    "    content = file.read(10)  # Read the first 10 bytes\n",
    "    print(content)"
   ]
  },
  {
   "cell_type": "code",
   "execution_count": 13,
   "id": "ec1b184b-59d7-4557-89b5-3654abfa0add",
   "metadata": {},
   "outputs": [
    {
     "name": "stdout",
     "output_type": "stream",
     "text": [
      "Hello, World!\n",
      "Appending a new line."
     ]
    }
   ],
   "source": [
    "with open('example.txt', 'r') as file:\n",
    "    line = file.readline()\n",
    "    while line:\n",
    "        print(line, end='')\n",
    "        line = file.readline()"
   ]
  },
  {
   "cell_type": "code",
   "execution_count": 14,
   "id": "5510ea6a-168e-485b-bd49-0b0f1b193489",
   "metadata": {},
   "outputs": [],
   "source": [
    "lines = [\"First line\\n\", \"Second line\\n\", \"Third line\\n\"]\n",
    "with open('example.txt', 'w') as file:\n",
    "    file.writelines(lines)"
   ]
  },
  {
   "cell_type": "markdown",
   "id": "b9db6b56-396b-4179-b143-a88a21aef6f7",
   "metadata": {},
   "source": [
    "**Comprehensive File Handling**"
   ]
  },
  {
   "cell_type": "code",
   "execution_count": 15,
   "id": "fb61d900-a5cd-4699-b442-6458914f7e90",
   "metadata": {},
   "outputs": [
    {
     "name": "stdout",
     "output_type": "stream",
     "text": [
      "Hello, World!\n",
      "This is a second line.\n",
      "This line is appended.\n",
      "\n",
      "Hello, World!\n",
      "This is a second line.\n",
      "This line is appended.\n",
      "b'\\x00\\x01\\x02\\x03'\n"
     ]
    }
   ],
   "source": [
    "# Writing to a file\n",
    "with open('example.txt', 'w') as file:\n",
    "    file.write(\"Hello, World!\\n\")\n",
    "    file.write(\"This is a second line.\\n\")\n",
    "\n",
    "# Appending to the file\n",
    "with open('example.txt', 'a') as file:\n",
    "    file.write(\"This line is appended.\\n\")\n",
    "\n",
    "# Reading the entire file\n",
    "with open('example.txt', 'r') as file:\n",
    "    content = file.read()\n",
    "    print(content)\n",
    "\n",
    "# Reading line by line\n",
    "with open('example.txt', 'r') as file:\n",
    "    for line in file:\n",
    "        print(line, end='')\n",
    "\n",
    "# Binary file handling\n",
    "# Writing binary data to a file\n",
    "with open('binary_file.bin', 'wb') as file:\n",
    "    file.write(b'\\x00\\x01\\x02\\x03')\n",
    "\n",
    "# Reading binary data from a file\n",
    "with open('binary_file.bin', 'rb') as file:\n",
    "    binary_data = file.read()\n",
    "    print(binary_data)"
   ]
  },
  {
   "cell_type": "markdown",
   "id": "56e88f27-4a79-44f6-b49c-fd5ac5b5837a",
   "metadata": {},
   "source": [
    "## 3. In Python, explain multiple inheritance.\n",
    "\n",
    "Multiple inheritance is a feature in Python that allows a class to inherit attributes and methods from more than one parent class. This can be useful for creating classes that need to combine functionality from multiple sources. However, it also introduces complexity, particularly in terms of the method resolution order (MRO) and potential conflicts between parent classes."
   ]
  },
  {
   "cell_type": "markdown",
   "id": "b190c5dc-572a-4cec-adb8-12006c440844",
   "metadata": {},
   "source": [
    "**Basics of Multiple Inheritance**"
   ]
  },
  {
   "cell_type": "code",
   "execution_count": 19,
   "id": "778d8f2a-be06-4d8f-94a0-e87786649288",
   "metadata": {},
   "outputs": [],
   "source": [
    "# class ChildClass(ParentClass1, ParentClass2):"
   ]
  },
  {
   "cell_type": "markdown",
   "id": "164a0362-0334-4c0f-9319-2ba7625d9c94",
   "metadata": {},
   "source": [
    "**Define the Parent Classes**"
   ]
  },
  {
   "cell_type": "code",
   "execution_count": 20,
   "id": "fe773635-6a19-46df-bfe7-3872dbdd5457",
   "metadata": {},
   "outputs": [],
   "source": [
    "class Parent1:\n",
    "    def __init__(self):\n",
    "        self.str1 = \"Parent1\"\n",
    "\n",
    "    def method1(self):\n",
    "        print(\"Method from Parent1\")\n",
    "\n",
    "class Parent2:\n",
    "    def __init__(self):\n",
    "        self.str2 = \"Parent2\"\n",
    "\n",
    "    def method2(self):\n",
    "        print(\"Method from Parent2\")"
   ]
  },
  {
   "cell_type": "markdown",
   "id": "20d921bf-1668-4d75-a72f-e252bcc63379",
   "metadata": {},
   "source": [
    "**Define the Child Class**"
   ]
  },
  {
   "cell_type": "code",
   "execution_count": 21,
   "id": "4930dcd4-e336-441b-af3b-402a8234ace9",
   "metadata": {},
   "outputs": [],
   "source": [
    "class Child(Parent1, Parent2):\n",
    "    def __init__(self):\n",
    "        # Call constructors of both parents\n",
    "        Parent1.__init__(self)\n",
    "        Parent2.__init__(self)\n",
    "\n",
    "    def display(self):\n",
    "        print(self.str1)\n",
    "        print(self.str2)"
   ]
  },
  {
   "cell_type": "markdown",
   "id": "5fd6ba9d-5653-4440-83cb-c3ba29d4be4a",
   "metadata": {},
   "source": [
    "**Create an Instance of the Child Class**"
   ]
  },
  {
   "cell_type": "code",
   "execution_count": 22,
   "id": "52ce2715-0688-4236-aa5c-5c69c742411a",
   "metadata": {},
   "outputs": [
    {
     "name": "stdout",
     "output_type": "stream",
     "text": [
      "Method from Parent1\n",
      "Method from Parent2\n",
      "Parent1\n",
      "Parent2\n"
     ]
    }
   ],
   "source": [
    "# Creating an instance of Child\n",
    "child = Child()\n",
    "\n",
    "# Calling methods from both parents\n",
    "child.method1()  # Output: Method from Parent1\n",
    "child.method2()  # Output: Method from Parent2\n",
    "\n",
    "# Display attributes from both parents\n",
    "child.display()"
   ]
  },
  {
   "cell_type": "markdown",
   "id": "33d5e8bd-8344-4b0e-a921-7ab4a6160679",
   "metadata": {},
   "source": [
    "**Method Resolution Order (MRO)**"
   ]
  },
  {
   "cell_type": "code",
   "execution_count": 23,
   "id": "909083db-71e9-4e7c-a735-582237483438",
   "metadata": {},
   "outputs": [
    {
     "name": "stdout",
     "output_type": "stream",
     "text": [
      "Method in B\n",
      "(<class '__main__.D'>, <class '__main__.B'>, <class '__main__.C'>, <class '__main__.A'>, <class 'object'>)\n"
     ]
    }
   ],
   "source": [
    "class A:\n",
    "    def method(self):\n",
    "        print(\"Method in A\")\n",
    "\n",
    "class B(A):\n",
    "    def method(self):\n",
    "        print(\"Method in B\")\n",
    "\n",
    "class C(A):\n",
    "    def method(self):\n",
    "        print(\"Method in C\")\n",
    "\n",
    "class D(B, C):\n",
    "    pass\n",
    "\n",
    "d = D()\n",
    "d.method()  # Output: Method in B\n",
    "\n",
    "# Inspect the MRO\n",
    "print(D.__mro__)\n"
   ]
  },
  {
   "cell_type": "markdown",
   "id": "5c14f5a1-4ce2-4e1a-bc0b-ba4b0add178f",
   "metadata": {},
   "source": [
    "**Diamond Problem:**\n",
    "\n",
    "This occurs when a class inherits from two classes that both inherit from a common base class, leading to ambiguity.\n",
    "Python resolves this using the C3 linearization algorithm, ensuring a consistent MRO."
   ]
  },
  {
   "cell_type": "code",
   "execution_count": 24,
   "id": "9eb24df7-7267-4873-a6ad-429f04915a7a",
   "metadata": {},
   "outputs": [
    {
     "name": "stdout",
     "output_type": "stream",
     "text": [
      "Method in D\n",
      "Method in B\n"
     ]
    }
   ],
   "source": [
    "class A:\n",
    "    def method(self):\n",
    "        print(\"Method in A\")\n",
    "\n",
    "class B(A):\n",
    "    def method(self):\n",
    "        print(\"Method in B\")\n",
    "\n",
    "class C(A):\n",
    "    def method(self):\n",
    "        print(\"Method in C\")\n",
    "\n",
    "class D(B, C):\n",
    "    def method(self):\n",
    "        print(\"Method in D\")\n",
    "        super().method()\n",
    "\n",
    "d = D()\n",
    "d.method()  # Output: Method in D -> Method in B -> Method in C -> Method in A"
   ]
  },
  {
   "cell_type": "markdown",
   "id": "b3b4f92d-e8f4-4524-9c62-09d933b1b033",
   "metadata": {},
   "source": [
    "## Write the MySQL query syntax for INSERT, UPDATE, and DROP.\n",
    "\n",
    "**INSERT Syntax**\n",
    "\n",
    "INSERT INTO table_name (column1, column2, column3, ...)\n",
    "VALUES (value1, value2, value3, ...)\n",
    "\n",
    "\n",
    "Example : \n",
    ";INSERT INTO employees (first_name, last_name, age, department)\n",
    "VALUES ('John', 'Doe', 30, 'Engineering')\n",
    "\n",
    "**INSERT with Specific Columns**\n",
    "\n",
    "INSERT INTO table_name (column1, column2)\n",
    "VALUES (value1, value2)\n",
    ";\n",
    "example:\n",
    "\n",
    "INSERT INTO employees (first_name, age)\n",
    "VALUES ('Jane', 25);\n",
    "\n",
    "**INSERT Multiple Rows**\n",
    "\n",
    "INSERT INTO table_name (column1, column2, column3, ...)\n",
    "VALUES\n",
    "    (value1a, value2a, value3a, ...),\n",
    "    (value1b, value2b, value3b, ...),\n",
    "    .\n",
    ".\n",
    "example:\n",
    "\n",
    "\n",
    "INSERT INTO employees (first_name, last_name, age, department)\n",
    "VALUES\n",
    "    ('Alice', 'Smith', 28, 'HR'),\n",
    "    ('Bob', 'Johnson', 35, 'Marketing'\n",
    "\n",
    "\n",
    "**UPDATE Syntax**\n",
    "\n",
    "UPDATE table_name\n",
    "SET column1 = value1, column2 = value2, ...\n",
    "WHERE condition\n",
    "\n",
    "Example:\n",
    "\n",
    ";UPDATE employees\n",
    "SET age = 31, department = 'Product Management'\n",
    "WHERE first_name = 'John' AND last_name = 'Doe\n",
    "\n",
    "\n",
    "**DROP Syntax**\n",
    "\n",
    "\n",
    "DROP TABLE table_name;\n",
    "Example:\n",
    "\n",
    "DROP TABLE employees;\n",
    "\n",
    "\n",
    "**DROP Database**\n",
    "\n",
    "DROP DATABASE database_name;\n",
    "\n",
    "Example:\n",
    "\n",
    "DROP DATABASE company_db;\n",
    "\n",
    "- INSERT: Adds new rows to a table.\n",
    "- UPDATE: Modifies existing rows in a table.\n",
    "- DROP: Deletes tables or databases.\n",
    "\n",
    "';\n",
    "\n",
    "\n",
    ");\n",
    ".;\n",
    "\n",
    "\n",
    "\n",
    ";\n",
    "\n",
    "\n"
   ]
  },
  {
   "cell_type": "markdown",
   "id": "f5ac31dd-ef63-4449-81b2-403225dcf18e",
   "metadata": {},
   "source": [
    "## 5 Describe MongoDB's features.\n",
    "\n",
    "MongoDB is a popular NoSQL database known for its flexibility, scalability, and ease of use. Here are some of the key features that make MongoDB a preferred choice for many applications\n",
    "\n",
    "1. Document-Oriented Storage\n",
    "Documents: MongoDB stores data in BSON (Binary JSON) format, which allows for complex nested data structures and arrays.\n",
    "Collections: Documents are grouped into collections, which are analogous to tables in relational databases.\n",
    "Schema Flexibility: MongoDB is schema-less, meaning documents in a collection do not need to have a uniform structure, allowing for greater flexibility.\n",
    "\n",
    "3. Ad-Hoc Queries\n",
    "MongoDB supports a rich query language that allows for ad-hoc queries, including filtering by field, range queries, and regular expressions.\n",
    "Aggregation Framework: Provides powerful data aggregation capabilities, including filtering, grouping, sorting, and transforming data using pipelines.\n",
    "\n",
    "5. Indexing\n",
    "Indexes: MongoDB supports various types of indexes (e.g., single field, compound, multi-key, geospatial) to optimize query performance.\n",
    "Text Search: Built-in text search capabilities with features like text indexes and text search operators.\n",
    "\n",
    "7. Scalability and Performance\n",
    "Horizontal Scaling: MongoDB supports horizontal scaling through sharding, allowing the database to scale out across multiple servers.\n",
    "Replication: Provides high availability and redundancy through replica sets, where data is replicated across multiple nodes.\n",
    "\n",
    "9. High Availability\n",
    "Replica Sets: A group of MongoDB servers that maintain the same data set, providing failover and data redundancy.\n",
    "Automatic Failover: If the primary node in a replica set goes down, an automatic failover mechanism promotes a secondary node to primary.\n",
    "\n",
    "11. Aggregation Framework\n",
    "Aggregation Pipeline: Allows for the transformation and aggregation of data using a sequence of stages, each processing the input and passing the result to the next stage.\n",
    "\n",
    "MapReduce: Supports complex data processing and aggregation tasks through the MapReduce programming model.\n",
    "13. Flexible Data Model\n",
    "Dynamic Schema: Collections can store documents with different structures, making it easy to evolve the data model without downtime.\n",
    "Embedded Documents and Arrays: Supports rich, nested data structures that can be embedded within documents, reducing the need for joins.\n",
    "14. GridFS\n",
    "Large File Storage: GridFS is a specification for storing and retrieving large files such as images, videos, and other binary data within MongoDB.\n",
    "15. Geospatial Queries\n",
    "Geospatial Indexes: Supports geospatial indexes to query location-based data.\n",
    "Geospatial Operators: Provides operators to query for locations within a specific area, distance, or geospatial relationships.\n",
    "16. Security\n",
    "Authentication: Supports various authentication mechanisms including SCRAM, LDAP, and x.509 certificates.\n",
    "Authorization: Role-based access control (RBAC) to manage permissions and ensure data security.\n",
    "Encryption: Supports encryption at rest and TLS/SSL for data in transit.\n",
    "17. Transactions\n",
    "Multi-Document Transactions: Supports ACID transactions across multiple documents and collections, providing a higher level of data integrity.\n",
    "18. Tooling and Integration\n",
    "MongoDB Atlas: A fully managed cloud database service that simplifies deployment and management.\n",
    "Drivers and APIs: Provides official drivers for various programming languages (e.g., JavaScript, Python, Java, C#, etc.), as well as RESTful API interfaces.\n",
    "MongoDB Compass: A graphical user interface (GUI) for exploring and managing MongoDB data.\n",
    "19. Community and Ecosystem\n",
    "Open Source: MongoDB is available as open-source software, fostering a large and active community.\n",
    "Ecosystem: A rich ecosystem of tools and integrations, including ODMs/ORMs, connectors for data integration, and monitoring tools.\n",
    "Conclusion\n",
    "MongoDB's features make it a versatile and powerful choice for a wide range of applications, from simple data storage to complex, high-performance, and scalable solutions. Its document-oriented approach, flexible schema design, robust querying capabilities, and extensive ecosystem support help developers build modern applications efficiently."
   ]
  }
 ],
 "metadata": {
  "kernelspec": {
   "display_name": "Python 3 (ipykernel)",
   "language": "python",
   "name": "python3"
  },
  "language_info": {
   "codemirror_mode": {
    "name": "ipython",
    "version": 3
   },
   "file_extension": ".py",
   "mimetype": "text/x-python",
   "name": "python",
   "nbconvert_exporter": "python",
   "pygments_lexer": "ipython3",
   "version": "3.11.7"
  }
 },
 "nbformat": 4,
 "nbformat_minor": 5
}

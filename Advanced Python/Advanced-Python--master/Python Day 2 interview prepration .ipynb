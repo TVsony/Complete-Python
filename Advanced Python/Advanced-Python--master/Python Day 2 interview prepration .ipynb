{
 "cells": [
  {
   "cell_type": "markdown",
   "id": "8ea94a30-123c-4bcd-b0c0-1ab4653b6a58",
   "metadata": {},
   "source": [
    "# 1 Write a Python program to generate a Star triangle "
   ]
  },
  {
   "cell_type": "code",
   "execution_count": 6,
   "id": "2bfc305f-aae6-4035-9091-c6a22cae8b19",
   "metadata": {},
   "outputs": [
    {
     "name": "stdout",
     "output_type": "stream",
     "text": [
      "n: 7\n"
     ]
    },
    {
     "name": "stdout",
     "output_type": "stream",
     "text": [
      "*\n",
      "**\n",
      "***\n",
      "****\n",
      "*****\n",
      "******\n",
      "*******\n"
     ]
    }
   ],
   "source": [
    "def triangle(rows):\n",
    "    # Loop through each row\n",
    "    for i in range(1, rows + 1):\n",
    "        # Print i stars for the current row\n",
    "        print('*' * i)\n",
    "\n",
    "# Example usage:\n",
    "num_rows = int(input(\"n:\" ))\n",
    "triangle(num_rows)"
   ]
  },
  {
   "cell_type": "markdown",
   "id": "6468c43c-8ca4-4457-8705-ad78fda7b00b",
   "metadata": {},
   "source": [
    "# 2 Write a program to produce the Fibonacci series in Python."
   ]
  },
  {
   "cell_type": "code",
   "execution_count": 7,
   "id": "41a26cf6-0077-4d3b-bd2f-a0b2070af970",
   "metadata": {},
   "outputs": [
    {
     "name": "stdout",
     "output_type": "stream",
     "text": [
      " 12\n"
     ]
    },
    {
     "name": "stdout",
     "output_type": "stream",
     "text": [
      "[0, 1, 1, 2, 3, 5, 8, 13, 21, 34, 55, 89]\n"
     ]
    }
   ],
   "source": [
    "def fibs(n):\n",
    "    fib_sequence = []\n",
    "    a, b = 0, 1\n",
    "    for _ in range(n):\n",
    "        \n",
    "        fib_sequence.append(a)\n",
    "        \n",
    "        a, b = b, a + b\n",
    "        \n",
    "    return fib_sequence\n",
    "\n",
    "# Example usage:\n",
    "num_terms = int(input())\n",
    "print(fibs(num_terms))"
   ]
  },
  {
   "cell_type": "markdown",
   "id": "0e9cc6da-8827-40cd-ab9f-43ff8489b9c8",
   "metadata": {},
   "source": [
    "# 3 Make a Python program that checks if a sequence is a Palindrome."
   ]
  },
  {
   "cell_type": "code",
   "execution_count": 10,
   "id": "9c9f6066-2dc9-4b4e-b12c-b5b0bb4e1b54",
   "metadata": {},
   "outputs": [
    {
     "name": "stdout",
     "output_type": "stream",
     "text": [
      "enter sequence 323\n"
     ]
    },
    {
     "name": "stdout",
     "output_type": "stream",
     "text": [
      "palindrome\n"
     ]
    }
   ],
   "source": [
    "a=input(\"enter sequence\")\n",
    "b=a[::-1]\n",
    "if a==b:\n",
    "  print(\"palindrome\")\n",
    "else:\n",
    "  print(\"Not a Palindrome\")"
   ]
  },
  {
   "cell_type": "markdown",
   "id": "9ac36ca9-e596-4613-928f-9453e2e278e3",
   "metadata": {},
   "source": [
    "# 4 Can you write a sorting algorithm with a numerical dataset?"
   ]
  },
  {
   "cell_type": "code",
   "execution_count": 17,
   "id": "1eaf5565-3da1-4881-89a2-8f64eb91d51b",
   "metadata": {},
   "outputs": [
    {
     "name": "stdout",
     "output_type": "stream",
     "text": [
      "[0, 1, 4, 6, 9]\n"
     ]
    }
   ],
   "source": [
    "list = [\"1\", \"4\", \"0\", \"6\", \"9\"]\n",
    "\n",
    "list = [int(i) for i in list]\n",
    "\n",
    "list.sort()\n",
    "\n",
    "print (list)"
   ]
  },
  {
   "cell_type": "markdown",
   "id": "411b8bc2-cebc-4d69-a7d6-8bfbd4a4f1ec",
   "metadata": {},
   "source": [
    "# 5  Can you write a sorting algorithm with a numerical dataset? but without using inbuild methods like sort "
   ]
  },
  {
   "cell_type": "code",
   "execution_count": 18,
   "id": "b619aa38-a0dd-4589-854c-8a9f2bdcc34f",
   "metadata": {},
   "outputs": [
    {
     "name": "stdout",
     "output_type": "stream",
     "text": [
      "Sorted array is: [11, 12, 22, 25, 34, 64, 90]\n"
     ]
    }
   ],
   "source": [
    "def bubble_sort(nums):\n",
    "    n = len(nums)\n",
    "    # Traverse through all elements in the list\n",
    "    for i in range(n):\n",
    "        # Last i elements are already sorted, so we don't need to check them\n",
    "        for j in range(0, n - i - 1):\n",
    "            # Swap if the element found is greater than the next element\n",
    "            if nums[j] > nums[j + 1]:\n",
    "                nums[j], nums[j + 1] = nums[j + 1], nums[j]\n",
    "\n",
    "# Example usage:\n",
    "data = [64, 34, 25, 12, 22, 11, 90]\n",
    "bubble_sort(data)\n",
    "print(\"Sorted array is:\", data)"
   ]
  },
  {
   "cell_type": "markdown",
   "id": "beae0571-4fb6-4d91-adc1-66a1a25467c9",
   "metadata": {},
   "source": [
    "# 6 Write a program that checks if all of the numbers in a sequence are unique."
   ]
  },
  {
   "cell_type": "code",
   "execution_count": 19,
   "id": "95d7dc1c-0509-4dbb-b18e-8f70da785fdf",
   "metadata": {},
   "outputs": [
    {
     "name": "stdout",
     "output_type": "stream",
     "text": [
      "Sequence 1: True\n",
      "Sequence 2: False\n"
     ]
    }
   ],
   "source": [
    "def are_all_unique(sequence):\n",
    "    seen = set()  # Set to store encountered numbers\n",
    "    for num in sequence:\n",
    "        if num in seen:\n",
    "            return False  # If the number is already in the set, it's not unique\n",
    "        seen.add(num)  # Add the number to the set\n",
    "    return True  # If all numbers are unique, return True\n",
    "\n",
    "\n",
    "# Example usage:\n",
    "sequence1 = [1, 2, 3, 4, 5]\n",
    "sequence2 = [1, 2, 3, 4, 4, 5]\n",
    "print(\"Sequence 1:\", are_all_unique(sequence1)) \n",
    "print(\"Sequence 2:\", are_all_unique(sequence2))  "
   ]
  },
  {
   "cell_type": "markdown",
   "id": "99bbaf3c-a8fc-4f1d-9bfa-97abbbc1b7dc",
   "metadata": {},
   "source": [
    "# 7 Create a program to add two integers >0 without using the plus operator."
   ]
  },
  {
   "cell_type": "code",
   "execution_count": 20,
   "id": "79028533-fe8e-45e3-a44f-20e9b5d6c9bf",
   "metadata": {},
   "outputs": [
    {
     "name": "stdout",
     "output_type": "stream",
     "text": [
      "Sum: 15\n"
     ]
    }
   ],
   "source": [
    "def add_without_plus(a, b):\n",
    "    while b != 0:\n",
    "        # Calculate the carry \n",
    "        carry = a & b\n",
    "        # Sum without considering the carry\n",
    "        a = a ^ b\n",
    "        # Shift the carry to the left by 1 bit\n",
    "        b = carry << 1\n",
    "    return a\n",
    "\n",
    "# Example usage:\n",
    "num1 = 10\n",
    "num2 = 5\n",
    "print(\"Sum:\", add_without_plus(num1, num2)) \n"
   ]
  },
  {
   "cell_type": "markdown",
   "id": "8fd9d543-c0ce-4605-a24a-72907037cf63",
   "metadata": {},
   "source": [
    "# 8 Create a program to convert dates from yyyy-mm-dd to dd-mm-yyyyy."
   ]
  },
  {
   "cell_type": "code",
   "execution_count": 22,
   "id": "94403d05-d724-44b3-adf6-02807c01bd3e",
   "metadata": {},
   "outputs": [
    {
     "name": "stdout",
     "output_type": "stream",
     "text": [
      "Original date: 2024-06-15\n",
      "Converted date: 15-06-2024\n"
     ]
    }
   ],
   "source": [
    "def convert_date(date):\n",
    "    # Split the date string into its components\n",
    "    parts = date.split('-')\n",
    "    # Rearrange the components in the desired order\n",
    "    new_date = parts[2] + '-' + parts[1] + '-' + parts[0]\n",
    "    return new_date\n",
    "\n",
    "# Example usage:\n",
    "date = '2024-06-15'\n",
    "print(\"Original date:\", date)\n",
    "print(\"Converted date:\", convert_date(date))  "
   ]
  },
  {
   "cell_type": "markdown",
   "id": "04bdb9f7-e4a0-4209-b23e-b8157a9f2c17",
   "metadata": {},
   "source": [
    "# 9 Write a Python program to find yesterday’s, today’s and tomorrow’s date"
   ]
  },
  {
   "cell_type": "code",
   "execution_count": 24,
   "id": "f67abcfa-3b1d-4b3e-a0a8-b71ff1d08a60",
   "metadata": {},
   "outputs": [
    {
     "name": "stdout",
     "output_type": "stream",
     "text": [
      "Yesterday's date: 2024-06-14\n",
      "Today's date: 2024-06-15\n",
      "Tomorrow's date: 2024-06-16\n"
     ]
    }
   ],
   "source": [
    "from datetime import datetime, timedelta\n",
    "\n",
    "def find_dates():\n",
    "    # Get today's date\n",
    "    today = datetime.now().date()\n",
    "    \n",
    "    # Calculate yesterday's and tomorrow's date\n",
    "    yesterday = today - timedelta(days=1)\n",
    "    tomorrow = today + timedelta(days=1)\n",
    "    \n",
    "    return yesterday, today, tomorrow\n",
    "\n",
    "# Example usage:\n",
    "yesterday, today, tomorrow = find_dates()\n",
    "print(\"Yesterday's date:\", yesterday)\n",
    "print(\"Today's date:\", today)\n",
    "print(\"Tomorrow's date:\", tomorrow)\n"
   ]
  },
  {
   "cell_type": "markdown",
   "id": "5a0dbac4-a54a-4372-a551-89b7212e5a20",
   "metadata": {},
   "source": [
    "# 10 How to create 1D, 2D and 3D arrays?"
   ]
  },
  {
   "cell_type": "code",
   "execution_count": 25,
   "id": "94977f28-64c8-47b8-b9d6-9f610b8247b1",
   "metadata": {},
   "outputs": [
    {
     "name": "stdout",
     "output_type": "stream",
     "text": [
      "[100 200 300 400]\n"
     ]
    }
   ],
   "source": [
    "import numpy as np\n",
    "# creating the list\n",
    "list = [100, 200, 300, 400]\n",
    "# creating 1-d array\n",
    "n = np.array(list)\n",
    "print(n)"
   ]
  },
  {
   "cell_type": "code",
   "execution_count": 26,
   "id": "b020a853-6319-42e9-b8c0-f8c6ed65fec9",
   "metadata": {},
   "outputs": [
    {
     "name": "stdout",
     "output_type": "stream",
     "text": [
      "[[ 1  2  3  4]\n",
      " [ 5  6  7  8]\n",
      " [ 9 10 11 12]]\n"
     ]
    }
   ],
   "source": [
    "# Create a 2-dimensional array with 3 rows and 4 columns\n",
    "arr = np.array([[1, 2, 3, 4], [5, 6, 7, 8], [9, 10, 11, 12]])\n",
    "# Print the array\n",
    "print(arr)"
   ]
  },
  {
   "cell_type": "code",
   "execution_count": 27,
   "id": "04be0ac3-d0f0-4866-bd2b-92336894e83b",
   "metadata": {},
   "outputs": [
    {
     "name": "stdout",
     "output_type": "stream",
     "text": [
      "[[[ 1  2  3  4]\n",
      "  [ 5  6  7  8]\n",
      "  [ 9 10 11 12]]\n",
      "\n",
      " [[13 14 15 16]\n",
      "  [17 18 19 20]\n",
      "  [21 22 23 24]]]\n"
     ]
    }
   ],
   "source": [
    "# Create a 3D array with shape (2, 3, 4)\n",
    "nested_list = [[[1, 2, 3, 4], [5, 6, 7, 8], [9, 10, 11, 12]],\n",
    "               [[13, 14, 15, 16], [17, 18, 19, 20], [21, 22, 23, 24]]]\n",
    "arr = np.array(nested_list)\n",
    "print(arr)"
   ]
  },
  {
   "cell_type": "code",
   "execution_count": null,
   "id": "f770edb3-e309-43c6-b62c-c4d0afc10864",
   "metadata": {},
   "outputs": [],
   "source": []
  }
 ],
 "metadata": {
  "kernelspec": {
   "display_name": "Python 3 (ipykernel)",
   "language": "python",
   "name": "python3"
  },
  "language_info": {
   "codemirror_mode": {
    "name": "ipython",
    "version": 3
   },
   "file_extension": ".py",
   "mimetype": "text/x-python",
   "name": "python",
   "nbconvert_exporter": "python",
   "pygments_lexer": "ipython3",
   "version": "3.11.7"
  }
 },
 "nbformat": 4,
 "nbformat_minor": 5
}

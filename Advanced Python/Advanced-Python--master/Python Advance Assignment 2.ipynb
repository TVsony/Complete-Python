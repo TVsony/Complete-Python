{
 "cells": [
  {
   "cell_type": "markdown",
   "id": "32e14552-223a-4b8b-b299-faac89aed327",
   "metadata": {},
   "source": [
    "## 1. Explain three-dimensional data indexing ? \n",
    "- Three-dimensional data indexing in NumPy involves accessing and manipulating elements in a three-dimensional array.\n",
    "- A three-dimensional array can be visualized as an array of arrays of arrays, akin to a cube or a stack of matrices.\n",
    "- Understanding the Structure\n",
    "  \n",
    "A three-dimensional array in NumPy has three axes:  \n",
    "\n",
    "Axis 0: The first dimension (depth) - which is the top-level array  s.\n",
    "Axis 1: The second dimension (rows) - which are the arrays within the top-level arra  ys.\n",
    "Axis 2: The third dimension (columns) - which are the elements within the second-level arrays."
   ]
  },
  {
   "cell_type": "code",
   "execution_count": 1,
   "id": "a77e95f6-1d03-462a-a59a-5de27bc18364",
   "metadata": {},
   "outputs": [
    {
     "name": "stdout",
     "output_type": "stream",
     "text": [
      "3D Array:\n",
      " [[[ 0  1  2]\n",
      "  [ 3  4  5]\n",
      "  [ 6  7  8]]\n",
      "\n",
      " [[ 9 10 11]\n",
      "  [12 13 14]\n",
      "  [15 16 17]]\n",
      "\n",
      " [[18 19 20]\n",
      "  [21 22 23]\n",
      "  [24 25 26]]]\n"
     ]
    }
   ],
   "source": [
    "# Three-Dimensional Array\n",
    "import numpy as np\n",
    "# Creating a 3x3x3 3D array\n",
    "arr = np.arange(27).reshape((3, 3, 3))\n",
    "print(\"3D Array:\\n\", arr)"
   ]
  },
  {
   "cell_type": "markdown",
   "id": "abcea220-5d61-47d1-a88a-58a8e8074a0f",
   "metadata": {},
   "source": [
    "**Indexing Elements**\n",
    "- Accessing Single Elements"
   ]
  },
  {
   "cell_type": "code",
   "execution_count": 2,
   "id": "acc6c9de-c3b1-42e3-8eda-eeb7ff22e2bf",
   "metadata": {},
   "outputs": [
    {
     "name": "stdout",
     "output_type": "stream",
     "text": [
      "Element at [1, 2, 0]: 15\n"
     ]
    }
   ],
   "source": [
    "# Accessing the element at depth 1, row 2, column 0\n",
    "element = arr[1, 2, 0]\n",
    "print(\"Element at [1, 2, 0]:\", element)"
   ]
  },
  {
   "cell_type": "code",
   "execution_count": 3,
   "id": "242de4aa-bc47-4184-a600-7b00dea5288c",
   "metadata": {},
   "outputs": [
    {
     "name": "stdout",
     "output_type": "stream",
     "text": [
      "2D slice at depth 0:\n",
      " [[0 1 2]\n",
      " [3 4 5]\n",
      " [6 7 8]]\n"
     ]
    }
   ],
   "source": [
    "# Accessing the first 2D slice (depth 0)\n",
    "slice_2d = arr[0, :, :]\n",
    "print(\"2D slice at depth 0:\\n\", slice_2d)"
   ]
  },
  {
   "cell_type": "markdown",
   "id": "2ed04b6a-5651-4514-b224-f7e5bd9fe602",
   "metadata": {},
   "source": [
    "**Accessing Subarrays**\n",
    "- You can slice across multiple axes to get subarrays."
   ]
  },
  {
   "cell_type": "code",
   "execution_count": 4,
   "id": "9ad606b9-e83e-4a40-974c-2e99f25e327b",
   "metadata": {},
   "outputs": [
    {
     "name": "stdout",
     "output_type": "stream",
     "text": [
      "Subarray:\n",
      " [[[ 1  2]\n",
      "  [ 4  5]]\n",
      "\n",
      " [[10 11]\n",
      "  [13 14]]]\n"
     ]
    }
   ],
   "source": [
    "# Accessing a subarray: depth 0 to 1, row 0 to 2, column 1 to 2\n",
    "subarray = arr[0:2, 0:2, 1:3]\n",
    "print(\"Subarray:\\n\", subarray)"
   ]
  },
  {
   "cell_type": "markdown",
   "id": "03ba9a72-3054-4440-8d2a-f757d634af53",
   "metadata": {},
   "source": [
    "**Accessing with Step**\n",
    "- You can also include a step value in the slice."
   ]
  },
  {
   "cell_type": "code",
   "execution_count": 5,
   "id": "e1aadb06-f8e2-4b48-8749-44eef64c1b72",
   "metadata": {},
   "outputs": [
    {
     "name": "stdout",
     "output_type": "stream",
     "text": [
      "Stepped slice:\n",
      " [[[ 0  2]\n",
      "  [ 6  8]]\n",
      "\n",
      " [[ 9 11]\n",
      "  [15 17]]\n",
      "\n",
      " [[18 20]\n",
      "  [24 26]]]\n"
     ]
    }
   ],
   "source": [
    "# Accessing elements with a step\n",
    "stepped_slice = arr[:, ::2, ::2]\n",
    "print(\"Stepped slice:\\n\", stepped_slice)"
   ]
  },
  {
   "cell_type": "markdown",
   "id": "70663223-cde5-48f3-9edd-88faa5f32a09",
   "metadata": {},
   "source": [
    "## 2. What's the difference between a series and a dataframe?\n",
    "- In the context of the Pandas library in Python, Series and DataFrame are two fundamental data structures.\n",
    "- While they share some similarities, they serve different purposes and have distinct characteristics.\n",
    "- \n",
    "**Key Differences Between Series and DataFrame**\n",
    "- \n",
    "Dimensionality:\n",
    "\n",
    "Series: One-dimensional (single column).\n",
    "DataFrame: Two-dimensional (multiple rows and colum\n",
    "n- s).\n",
    "Data Structure:\n",
    "\n",
    "Series: Similar to a single column of data.\n",
    "DataFrame: Similar to a table or spre\n",
    "a- dsheet.\n",
    "Indexing:\n",
    "\n",
    "Series: Indexed by a single array of labels.\n",
    "DataFrame: Indexed by two arrays of labels (row index and co\n",
    "l- umn index).\n",
    "Data Types:\n",
    "\n",
    "Series: Typically homogeneous data types.\n",
    "DataFrame: Heterogeneous data types across di\n",
    "f- ferent columns.\n",
    "Operations:\n",
    "\n",
    "Many operations that apply to Series can be broadcasted across rows or colu\n",
    "m- ns of a DataFrame.\n",
    "Summary\n",
    "Series: Best for handling single column data, similar to a list or array with an index.\n",
    "DataFrame: Best for handling tabular data with multiple rows and columns, similar to a table or spreadsheet, allowing more complex operations and data manipulation.\n",
    "  \n",
    "**Pandas Series**\n",
    "A Series is a one-dimensional array-like object that can hold data of any type (integers, strings, floating-point numbers, etc.). \n",
    "It is essentially a single column of data, and it comes with an associated array of labels, called the index.\n",
    "\n",
    "Key Characteristics of a Series\n",
    "- One-Dimensional: A Series is one-dimensional and can be thought of as a single column of data.\n",
    "- Index: Each element in a Series has an associated label (index), which can be used to access elements.\n",
    "- Homogeneous Data: A Series typically holds data of a single type, although it can technically hold mixed types.\n",
    "  "
   ]
  },
  {
   "cell_type": "code",
   "execution_count": 7,
   "id": "229f7f4d-754d-4468-bb61-f84cdb850955",
   "metadata": {},
   "outputs": [
    {
     "name": "stdout",
     "output_type": "stream",
     "text": [
      "0    1\n",
      "1    2\n",
      "2    3\n",
      "3    4\n",
      "4    5\n",
      "dtype: int64\n"
     ]
    }
   ],
   "source": [
    "import pandas as pd\n",
    "# Creating a Series from a list\n",
    "data = [1, 2, 3, 4, 5]\n",
    "series = pd.Series(data)\n",
    "print(series)"
   ]
  },
  {
   "cell_type": "code",
   "execution_count": 8,
   "id": "3fd264aa-a437-4275-b8ed-d7ad1514e7e9",
   "metadata": {},
   "outputs": [
    {
     "name": "stdout",
     "output_type": "stream",
     "text": [
      "1\n",
      "1\n"
     ]
    }
   ],
   "source": [
    "# Accessing elements by position\n",
    "print(series[0])  # Output: 1\n",
    "# Accessing elements by index\n",
    "series.index = ['a', 'b', 'c', 'd', 'e']\n",
    "print(series['a'])  # Output: 1\n"
   ]
  },
  {
   "cell_type": "markdown",
   "id": "2bda4336-7a71-4851-89df-0662fd8ae77e",
   "metadata": {},
   "source": [
    "**Pandas DataFrame**\n",
    "A DataFrame is a two-dimensional, tabular data structure with labeled axes (rows and columns). \n",
    "It is essentially a collection of Series objects that share the same index.\n",
    "\n",
    "Key Characteristics of a DataFrame\n",
    "- Two-Dimensional: A DataFrame is two-dimensional, consisting of rows and columns.\n",
    "- Index and Columns: It has both row labels (index) and column labels.\n",
    "- Heterogeneous Data: Different columns in a DataFrame can hold different types of data (integers, floats, strings, etc.)."
   ]
  },
  {
   "cell_type": "code",
   "execution_count": 10,
   "id": "1782d978-a5f9-4f68-a2a3-7cbda7ed2869",
   "metadata": {},
   "outputs": [
    {
     "name": "stdout",
     "output_type": "stream",
     "text": [
      "   A  B  C\n",
      "0  1  4  7\n",
      "1  2  5  8\n",
      "2  3  6  9\n"
     ]
    }
   ],
   "source": [
    "import pandas as pd\n",
    "# Creating a DataFrame from a dictionary of lists\n",
    "data = {\n",
    "    'A': [1, 2, 3],\n",
    "    'B': [4, 5, 6],\n",
    "    'C': [7, 8, 9]\n",
    "}\n",
    "df = pd.DataFrame(data)\n",
    "print(df)"
   ]
  },
  {
   "cell_type": "code",
   "execution_count": 11,
   "id": "871dfbb4-7440-4839-9f4c-212a141544db",
   "metadata": {},
   "outputs": [
    {
     "name": "stdout",
     "output_type": "stream",
     "text": [
      "0    1\n",
      "1    2\n",
      "2    3\n",
      "Name: A, dtype: int64\n",
      "   A  C\n",
      "0  1  7\n",
      "1  2  8\n",
      "2  3  9\n",
      "A    1\n",
      "B    4\n",
      "C    7\n",
      "Name: 0, dtype: int64\n",
      "A    2\n",
      "B    5\n",
      "C    8\n",
      "Name: 1, dtype: int64\n"
     ]
    }
   ],
   "source": [
    "# Accessing a single column (returns a Series)\n",
    "print(df['A'])  # Output: Series with data from column 'A'\n",
    "# Accessing multiple columns (returns a DataFrame)\n",
    "print(df[['A', 'C']])\n",
    "# Accessing rows by index\n",
    "print(df.loc[0])  # Output: Series with data from the first row\n",
    "# Accessing rows by position\n",
    "print(df.iloc[1])  # Output: Series with data from the second row\n"
   ]
  },
  {
   "cell_type": "markdown",
   "id": "9c9f9a83-296f-4f30-b4d2-876ef7cc5508",
   "metadata": {},
   "source": [
    "## 3. What role does pandas play in data cleaning?\n",
    "- Here are some of the key tasks and functionalities pandas offers for data cleaning"
   ]
  },
  {
   "cell_type": "markdown",
   "id": "ea0e631e-e59f-46eb-9be2-ab25ef6ac725",
   "metadata": {},
   "source": [
    "**1. Handling Missing Data** \n",
    "- isnull() and notnull(): These methods help in detecting missing values (NaN) in a DataFrame."
   ]
  },
  {
   "cell_type": "code",
   "execution_count": 12,
   "id": "f28affa4-0641-4234-b746-5f64577d212f",
   "metadata": {},
   "outputs": [
    {
     "name": "stdout",
     "output_type": "stream",
     "text": [
      "       A      B\n",
      "0  False  False\n",
      "1  False   True\n",
      "2   True  False\n"
     ]
    }
   ],
   "source": [
    "import pandas as pd\n",
    "data = {'A': [1, 2, None], 'B': [4, None, 6]}\n",
    "df = pd.DataFrame(data)\n",
    "print(df.isnull())"
   ]
  },
  {
   "cell_type": "markdown",
   "id": "90271c45-a384-4c56-86ec-0c6bdcedef29",
   "metadata": {},
   "source": [
    "**Filling Missing Data**\n",
    "- fillna(): This method fills missing values with a specified value, method, or the mean/median/mode of the column."
   ]
  },
  {
   "cell_type": "code",
   "execution_count": 15,
   "id": "175d5048-8cf2-4dbd-8473-78aaff20875a",
   "metadata": {},
   "outputs": [
    {
     "name": "stdout",
     "output_type": "stream",
     "text": [
      "       A      B\n",
      "0  False  False\n",
      "1  False   True\n",
      "2  False  False\n"
     ]
    }
   ],
   "source": [
    "df['A'].fillna(df['A'].mean(), inplace=True)\n",
    "print(df.isnull())"
   ]
  },
  {
   "cell_type": "markdown",
   "id": "054158cf-8dbc-4010-99d5-fd0382abbf43",
   "metadata": {},
   "source": [
    "**Dropping Missing Data**\n",
    "- dropna(): This method removes rows or columns with missing values."
   ]
  },
  {
   "cell_type": "code",
   "execution_count": 16,
   "id": "7562d7e2-2e43-42fd-b985-d0b5a75b9941",
   "metadata": {},
   "outputs": [],
   "source": [
    "df.dropna(inplace=True)  # Drops any rows containing NaN"
   ]
  },
  {
   "cell_type": "code",
   "execution_count": 17,
   "id": "eb485c30-3f0a-4918-83ce-fabd45c95178",
   "metadata": {},
   "outputs": [
    {
     "name": "stdout",
     "output_type": "stream",
     "text": [
      "       A      B\n",
      "0  False  False\n",
      "2  False  False\n"
     ]
    }
   ],
   "source": [
    "print(df.isnull())"
   ]
  },
  {
   "cell_type": "markdown",
   "id": "4ad47c81-1e85-4c49-8435-3f5fcd4d059e",
   "metadata": {},
   "source": [
    "**2. Data Standardization**\n",
    "\n",
    "Converting Data Types\n",
    "- astype(): Converts the data type of a Series or DataFrame."
   ]
  },
  {
   "cell_type": "code",
   "execution_count": 18,
   "id": "9de712d6-08ed-4e24-8e53-f3cd5e4f7162",
   "metadata": {},
   "outputs": [],
   "source": [
    "df['A'] = df['A'].astype(int)"
   ]
  },
  {
   "cell_type": "markdown",
   "id": "351d0165-2fc3-4974-92b6-bd94294c709b",
   "metadata": {},
   "source": [
    "**3. Handling Duplicates**\n",
    "\n",
    "Identifying Duplicates\n",
    "- duplicated(): Returns a Boolean Series denoting duplicate rows."
   ]
  },
  {
   "cell_type": "code",
   "execution_count": 21,
   "id": "998fa9fe-21c6-4bde-b1ce-2d6f64ff5d3a",
   "metadata": {},
   "outputs": [],
   "source": [
    "duplicates = df.duplicated()"
   ]
  },
  {
   "cell_type": "code",
   "execution_count": 22,
   "id": "e8dc1a94-0b5e-430b-b820-4b76a1b27d59",
   "metadata": {},
   "outputs": [],
   "source": [
    "df.drop_duplicates(inplace=True)"
   ]
  },
  {
   "cell_type": "markdown",
   "id": "20ef744a-5dc9-4b59-ace8-77afadc4ccf3",
   "metadata": {},
   "source": [
    "**4. Handling Outliers**"
   ]
  },
  {
   "cell_type": "code",
   "execution_count": 23,
   "id": "f6a1a91c-3b1c-4eb3-b1eb-8f7f8660ee63",
   "metadata": {},
   "outputs": [],
   "source": [
    "import numpy as np\n",
    "df['A'] = np.where(df['A'] > 3, df['A'].mean(), df['A'])"
   ]
  },
  {
   "cell_type": "markdown",
   "id": "a89baf51-de31-453f-b382-98de21ea82db",
   "metadata": {},
   "source": [
    "## 4. How do you use pandas to make a data frame out of n-dimensional arrays?\n",
    "Using a 2D Numpy Array\n",
    "- \n",
    "A common scenario involves converting a 2D numpy array into a DataFramions.e"
   ]
  },
  {
   "cell_type": "code",
   "execution_count": 30,
   "id": "0ec46df0-c052-49df-b06c-ab9b30a8a5af",
   "metadata": {},
   "outputs": [],
   "source": [
    "import numpy as np\n",
    "import pandas as pd\n",
    "data = np.array([[1, 2, 3], [4, 5, 6], [7, 8, 9]])"
   ]
  },
  {
   "cell_type": "code",
   "execution_count": 25,
   "id": "a0343fc5-feb6-423a-b8e3-374f08436aac",
   "metadata": {},
   "outputs": [
    {
     "name": "stdout",
     "output_type": "stream",
     "text": [
      "   0  1  2\n",
      "0  1  2  3\n",
      "1  4  5  6\n",
      "2  7  8  9\n"
     ]
    }
   ],
   "source": [
    "df = pd.DataFrame(data)\n",
    "print(df)"
   ]
  },
  {
   "cell_type": "markdown",
   "id": "91ca8ad5-1e92-4487-a1ee-dff52101f06d",
   "metadata": {},
   "source": [
    "**Adding Column and Row Labels**"
   ]
  },
  {
   "cell_type": "code",
   "execution_count": 26,
   "id": "6369c6ad-8230-4b7f-8bc4-5e99733b72f6",
   "metadata": {},
   "outputs": [
    {
     "name": "stdout",
     "output_type": "stream",
     "text": [
      "      A  B  C\n",
      "Row1  1  2  3\n",
      "Row2  4  5  6\n",
      "Row3  7  8  9\n"
     ]
    }
   ],
   "source": [
    "df = pd.DataFrame(data, columns=['A', 'B', 'C'], index=['Row1', 'Row2', 'Row3'])\n",
    "print(df)"
   ]
  },
  {
   "cell_type": "markdown",
   "id": "0e6cd376-f8d1-43af-9e5c-5211e002f8eb",
   "metadata": {},
   "source": [
    "### Create a 3D Numpy Array"
   ]
  },
  {
   "cell_type": "code",
   "execution_count": 27,
   "id": "7f465d84-c146-4872-bbb3-37975e5f6cbc",
   "metadata": {},
   "outputs": [
    {
     "name": "stdout",
     "output_type": "stream",
     "text": [
      "[[[ 0  1  2]\n",
      "  [ 3  4  5]\n",
      "  [ 6  7  8]]\n",
      "\n",
      " [[ 9 10 11]\n",
      "  [12 13 14]\n",
      "  [15 16 17]]\n",
      "\n",
      " [[18 19 20]\n",
      "  [21 22 23]\n",
      "  [24 25 26]]]\n"
     ]
    }
   ],
   "source": [
    "data_3d = np.arange(27).reshape((3, 3, 3))\n",
    "print(data_3d)"
   ]
  },
  {
   "cell_type": "markdown",
   "id": "03e11613-ccd6-44bd-a180-91eaacfe49c6",
   "metadata": {},
   "source": [
    "### Convert a 2D Slice to a DataFrame"
   ]
  },
  {
   "cell_type": "code",
   "execution_count": 28,
   "id": "7177c7de-ce5f-4c75-8896-f8ee77311e39",
   "metadata": {},
   "outputs": [
    {
     "name": "stdout",
     "output_type": "stream",
     "text": [
      "   A  B  C\n",
      "0  0  1  2\n",
      "1  3  4  5\n",
      "2  6  7  8\n"
     ]
    }
   ],
   "source": [
    "slice_2d = data_3d[0, :, :]  # Selecting the first 2D slice along the first axis\n",
    "df = pd.DataFrame(slice_2d, columns=['A', 'B', 'C'])\n",
    "print(df)"
   ]
  },
  {
   "cell_type": "markdown",
   "id": "049e1fc9-76d0-434e-82f6-e86732c619ed",
   "metadata": {},
   "source": [
    "### Reshape the 3D Array for Conversion"
   ]
  },
  {
   "cell_type": "code",
   "execution_count": 29,
   "id": "f47fbf6a-f2d7-4341-8350-e44f599a00ae",
   "metadata": {},
   "outputs": [
    {
     "name": "stdout",
     "output_type": "stream",
     "text": [
      "    A   B   C\n",
      "0   0   1   2\n",
      "1   3   4   5\n",
      "2   6   7   8\n",
      "3   9  10  11\n",
      "4  12  13  14\n",
      "5  15  16  17\n",
      "6  18  19  20\n",
      "7  21  22  23\n",
      "8  24  25  26\n"
     ]
    }
   ],
   "source": [
    "reshaped_data = data_3d.reshape(-1, data_3d.shape[-1])\n",
    "df = pd.DataFrame(reshaped_data, columns=['A', 'B', 'C'])\n",
    "print(df)"
   ]
  },
  {
   "cell_type": "markdown",
   "id": "dad11014-204f-48aa-b207-15220e372c8e",
   "metadata": {},
   "source": [
    "To convert numpy arrays into pandas DataFrames \n",
    "- 2D arrays: Directly convert using pd.DataFrame().\n",
    "- 3D arrays or higher: Select 2D slices or reshape the array to 2D before conversion.\n",
    "- Pandas’ flexibility and numpy’s powerful array manipulation capabilities allow for seamless data handling and preparation for further analysis and  operations."
   ]
  },
  {
   "cell_type": "markdown",
   "id": "92ec50b9-b2ea-4613-8167-be622bef8cae",
   "metadata": {},
   "source": [
    "## 5. Explain the notion of pandas plot re."
   ]
  },
  {
   "cell_type": "markdown",
   "id": "2a76c1e8-5bd8-4a67-ac07-1865729faa6f",
   "metadata": {},
   "source": [
    "- Integration with Matplotlib: Pandas plotting functions are built on top of Matplotlib, a comprehensive library for creating static, animated, and       interactive visualizations in Python.\n",
    "  \n",
    "- Simple Syntax: Pandas plotting functions are designed to be straightforward and easy to use, often requiring just one or two lines of code.\n",
    "  \n",
    "- Variety of Plot Types: Pandas supports various types of plots including line plots, bar plots, histograms, box plots, scatter plots, area plots, and more."
   ]
  },
  {
   "cell_type": "code",
   "execution_count": null,
   "id": "831d0889-5c48-49f6-8ab8-85677b286ff1",
   "metadata": {},
   "outputs": [],
   "source": [
    "Key points:\n",
    "\n",
    "Line Plot: Default plot type.\n",
    "Bar Plot: Vertical and horizontal bar plots.\n",
    "Histogram: Distribution of data.\n",
    "Box Plot: Summary statistics visualization.\n",
    "Scatter Plot: Relationship between two variables.\n",
    "Area Plot: Cumulative data representation.\n",
    "Customization: Titles, labels, sizes, and more.\n",
    "Subplots: Multiple plots in a single figure."
   ]
  },
  {
   "cell_type": "markdown",
   "id": "43e5dde3-baac-4459-a607-0190a7b75f95",
   "metadata": {},
   "source": [
    "**Line Plot**"
   ]
  },
  {
   "cell_type": "code",
   "execution_count": 39,
   "id": "688c5c9f-95ef-4237-9466-18ad14d9acb2",
   "metadata": {},
   "outputs": [
    {
     "data": {
      "text/plain": [
       "<Axes: >"
      ]
     },
     "execution_count": 39,
     "metadata": {},
     "output_type": "execute_result"
    },
    {
     "data": {
      "image/png": "[encoded data removed]",
      "text/plain": [
       "<Figure size 640x480 with 1 Axes>"
      ]
     },
     "metadata": {},
     "output_type": "display_data"
    }
   ],
   "source": [
    "import pandas as pd\n",
    "import numpy as np\n",
    "# Sample data\n",
    "data = pd.DataFrame({\n",
    "    'A': np.random.randn(50).cumsum(),\n",
    "    'B': np.random.randn(50).cumsum(),\n",
    "    'C': np.random.randn(50).cumsum()\n",
    "})\n",
    "\n",
    "# Line plot\n",
    "data.plot()"
   ]
  },
  {
   "cell_type": "markdown",
   "id": "31753859-1e52-47ec-a6db-cafd34812af0",
   "metadata": {},
   "source": [
    "**Bar Plot**"
   ]
  },
  {
   "cell_type": "code",
   "execution_count": 40,
   "id": "3305c876-9112-4148-b5e0-57f870813b53",
   "metadata": {},
   "outputs": [
    {
     "data": {
      "text/plain": [
       "<Axes: >"
      ]
     },
     "execution_count": 40,
     "metadata": {},
     "output_type": "execute_result"
    },
    {
     "data": {
      "image/png": "[encoded data removed]",
      "text/plain": [
       "<Figure size 640x480 with 1 Axes>"
      ]
     },
     "metadata": {},
     "output_type": "display_data"
    }
   ],
   "source": [
    "# Bar plot\n",
    "data.iloc[:5].plot.bar()"
   ]
  },
  {
   "cell_type": "markdown",
   "id": "e622471c-cd72-4f96-a4c4-7cc7e18d01e9",
   "metadata": {},
   "source": [
    "**Histogram**"
   ]
  },
  {
   "cell_type": "code",
   "execution_count": 41,
   "id": "5e3325ea-2b09-4e24-9acf-154aeec71c8b",
   "metadata": {},
   "outputs": [
    {
     "data": {
      "text/plain": [
       "<Axes: ylabel='Frequency'>"
      ]
     },
     "execution_count": 41,
     "metadata": {},
     "output_type": "execute_result"
    },
    {
     "data": {
      "image/png": "[encoded data removed]",
      "text/plain": [
       "<Figure size 640x480 with 1 Axes>"
      ]
     },
     "metadata": {},
     "output_type": "display_data"
    }
   ],
   "source": [
    "# Histogram\n",
    "data['A'].plot.hist(bins=10)"
   ]
  },
  {
   "cell_type": "markdown",
   "id": "8915118c-a9b3-45a4-8da9-e63115aeb0d5",
   "metadata": {},
   "source": [
    "**Box Plot**"
   ]
  },
  {
   "cell_type": "code",
   "execution_count": 42,
   "id": "390785ee-b886-4555-b092-55251c0f2543",
   "metadata": {},
   "outputs": [
    {
     "data": {
      "text/plain": [
       "<Axes: >"
      ]
     },
     "execution_count": 42,
     "metadata": {},
     "output_type": "execute_result"
    },
    {
     "data": {
      "image/png": "[encoded data removed]",
      "text/plain": [
       "<Figure size 640x480 with 1 Axes>"
      ]
     },
     "metadata": {},
     "output_type": "display_data"
    }
   ],
   "source": [
    "# Box plot\n",
    "data.plot.box()"
   ]
  },
  {
   "cell_type": "markdown",
   "id": "fd10002c-f474-4de8-b417-82af78cf773e",
   "metadata": {},
   "source": [
    "**Scatter Plot**"
   ]
  },
  {
   "cell_type": "code",
   "execution_count": 47,
   "id": "a3acf3bc-9faf-4c82-be69-66f38ee64f05",
   "metadata": {},
   "outputs": [
    {
     "data": {
      "text/plain": [
       "<Axes: xlabel='A', ylabel='B'>"
      ]
     },
     "execution_count": 47,
     "metadata": {},
     "output_type": "execute_result"
    },
    {
     "data": {
      "image/png": "[encoded data removed]",
      "text/plain": [
       "<Figure size 640x480 with 1 Axes>"
      ]
     },
     "metadata": {},
     "output_type": "display_data"
    }
   ],
   "source": [
    "# Scatter plot\n",
    "data.plot.scatter(x='A', y='B',color='g')"
   ]
  },
  {
   "cell_type": "markdown",
   "id": "82206bff-8239-4d7d-8dee-1c26c9f70d2d",
   "metadata": {},
   "source": [
    "**Subplots**"
   ]
  },
  {
   "cell_type": "code",
   "execution_count": 50,
   "id": "a64ee551-9431-42ec-916c-927ee5cb4ee6",
   "metadata": {},
   "outputs": [
    {
     "data": {
      "text/plain": [
       "array([[<Axes: >],\n",
       "       [<Axes: >],\n",
       "       [<Axes: >]], dtype=object)"
      ]
     },
     "execution_count": 50,
     "metadata": {},
     "output_type": "execute_result"
    },
    {
     "data": {
      "image/png": "[encoded data removed]",
      "text/plain": [
       "<Figure size 800x1200 with 3 Axes>"
      ]
     },
     "metadata": {},
     "output_type": "display_data"
    }
   ],
   "source": [
    "data.plot(subplots=True, layout=(3, 1), figsize=(8, 12), sharex=False)"
   ]
  },
  {
   "cell_type": "code",
   "execution_count": null,
   "id": "1fd61964-41af-407c-8d58-2f533e56b40f",
   "metadata": {},
   "outputs": [],
   "source": []
  }
 ],
 "metadata": {
  "kernelspec": {
   "display_name": "Python 3 (ipykernel)",
   "language": "python",
   "name": "python3"
  },
  "language_info": {
   "codemirror_mode": {
    "name": "ipython",
    "version": 3
   },
   "file_extension": ".py",
   "mimetype": "text/x-python",
   "name": "python",
   "nbconvert_exporter": "python",
   "pygments_lexer": "ipython3",
   "version": "3.11.7"
  }
 },
 "nbformat": 4,
 "nbformat_minor": 5
}

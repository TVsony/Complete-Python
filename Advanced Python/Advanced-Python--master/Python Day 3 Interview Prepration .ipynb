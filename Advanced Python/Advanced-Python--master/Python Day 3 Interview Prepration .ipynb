{
 "cells": [
  {
   "cell_type": "markdown",
   "id": "a62d86f0-1f00-41f3-a094-c846ae901d28",
   "metadata": {},
   "source": [
    "**1. Question:** Given a list of numbers, write a Python function to find the second-highest number."
   ]
  },
  {
   "cell_type": "code",
   "execution_count": 2,
   "id": "0c86e5cd-81c3-4760-a488-cc8af941bd6b",
   "metadata": {},
   "outputs": [
    {
     "name": "stdout",
     "output_type": "stream",
     "text": [
      "5\n"
     ]
    }
   ],
   "source": [
    "def second_highest(numbers):\n",
    "    numbers = list(set(numbers))\n",
    "    numbers.sort()\n",
    "    return numbers [-2]\n",
    "\n",
    "numbers = [1, 3, 2, 4, 4, 5, 6, 6]\n",
    "print(second_highest(numbers))"
   ]
  },
  {
   "cell_type": "markdown",
   "id": "68e5ef06-6f60-453a-90d8-ab5dfeef224f",
   "metadata": {},
   "source": [
    "**2. Question:** Write a function to compute the factorial of a number using recursion."
   ]
  },
  {
   "cell_type": "code",
   "execution_count": 6,
   "id": "97024deb-c495-4db7-ad99-2fdc32f9e57f",
   "metadata": {},
   "outputs": [
    {
     "name": "stdout",
     "output_type": "stream",
     "text": [
      "Factorial of :  5\n"
     ]
    },
    {
     "name": "stdout",
     "output_type": "stream",
     "text": [
      "120\n"
     ]
    }
   ],
   "source": [
    "def factorial(n):\n",
    "    if n == 0:\n",
    "        return 1 \n",
    "    return n * factorial(n-1)\n",
    "\n",
    "number = int(input('Factorial of : '))\n",
    "print(factorial(number))"
   ]
  },
  {
   "cell_type": "markdown",
   "id": "490726ba-4bbf-4e1d-9412-5a787100b174",
   "metadata": {},
   "source": [
    "**3. Question:** You are given a list of strings. Write a function to filter out all strings that are palindromes."
   ]
  },
  {
   "cell_type": "code",
   "execution_count": 8,
   "id": "3cc8706c-28e8-4a05-a5d4-ba089d40cb27",
   "metadata": {},
   "outputs": [
    {
     "name": "stdout",
     "output_type": "stream",
     "text": [
      "['radar', 'level']\n"
     ]
    }
   ],
   "source": [
    "def is_palindrome(s):\n",
    "    s = ''.join(e for e in s if e.isalnum())  # Remove punctuation and spaces\n",
    "    return s.lower() == s.lower()[::-1]\n",
    "\n",
    "def filter_palindromes(strings):\n",
    "    return [s for s in strings if is_palindrome(s)]\n",
    "\n",
    "words = [\"radar\", \"python\", \"level\", \"world\"]\n",
    "print(filter_palindromes(words))"
   ]
  },
  {
   "cell_type": "markdown",
   "id": "a2d2539d-c9f4-43c8-ba13-6406c8421127",
   "metadata": {},
   "source": [
    "**4. Question:** Write a function to flatten a nested list."
   ]
  },
  {
   "cell_type": "code",
   "execution_count": 14,
   "id": "7730b9d5-d8f0-49d2-8eb9-b8ac4cfaf106",
   "metadata": {},
   "outputs": [
    {
     "name": "stdout",
     "output_type": "stream",
     "text": [
      "[1, 2, 3, 4, 5, 6]\n"
     ]
    }
   ],
   "source": [
    "def flatten(lst):\n",
    "    result = []\n",
    "    for i in lst:\n",
    "        if isinstance(i, list):\n",
    "            result.extend(flatten(i))\n",
    "        else:\n",
    "            result.append(i)\n",
    "    return result\n",
    "\n",
    "nested_list = [1, [2, 3, [4, 5]], 6]\n",
    "print(flatten(nested_list))"
   ]
  },
  {
   "cell_type": "markdown",
   "id": "0e1e45f6-b6d3-4838-83b7-f658b1a98920",
   "metadata": {},
   "source": [
    "**5. Question:** Given a string, write a function to check if it is an anagram of another string."
   ]
  },
  {
   "cell_type": "code",
   "execution_count": 15,
   "id": "5a64c694-7080-41ee-a97b-ac3f100f4c52",
   "metadata": {},
   "outputs": [
    {
     "name": "stdout",
     "output_type": "stream",
     "text": [
      "True\n"
     ]
    }
   ],
   "source": [
    "def are_anagrams(s1, s2):\n",
    "    return sorted(s1) == sorted(s2)\n",
    "\n",
    "str1 = \"listen\"\n",
    "str2 = \"silent\"\n",
    "print(are_anagrams(str1, str2)) "
   ]
  },
  {
   "cell_type": "markdown",
   "id": "de0bb8c1-1403-4097-a77d-b3d526e250f0",
   "metadata": {},
   "source": [
    "**6. Question:** Given two lists, write a function that returns the elements that are common to both lists."
   ]
  },
  {
   "cell_type": "code",
   "execution_count": 21,
   "id": "1b470741-ca3b-43b2-a98f-816e97b5332e",
   "metadata": {},
   "outputs": [
    {
     "name": "stdout",
     "output_type": "stream",
     "text": [
      "[4, 5]\n"
     ]
    }
   ],
   "source": [
    "def common_elements(list1, list2):\n",
    "    return list(set(list1) & set(list2))\n",
    "\n",
    "list1 = [1, 2, 3, 4, 5]\n",
    "list2 = [4, 5, 6, 7, 8]\n",
    "print(common_elements(list1, list2))"
   ]
  },
  {
   "cell_type": "markdown",
   "id": "ff1c336d-c956-43a1-a422-0d83e3deb74a",
   "metadata": {},
   "source": [
    "**7. Question:** Write a function that returns the number of words in a string."
   ]
  },
  {
   "cell_type": "code",
   "execution_count": 22,
   "id": "405e266b-bbba-408a-b6b3-517cc47e7aab",
   "metadata": {},
   "outputs": [
    {
     "name": "stdout",
     "output_type": "stream",
     "text": [
      "4\n"
     ]
    }
   ],
   "source": [
    "def word_count(s):\n",
    "    return len(s.split())\n",
    "\n",
    "sentence = \"The quick brown fox\"\n",
    "print(word_count(sentence))"
   ]
  },
  {
   "cell_type": "markdown",
   "id": "cb56887d-2b8c-492b-8264-0f571a4ac4b4",
   "metadata": {},
   "source": [
    "**8. Question:** Write a Python function to merge two dictionaries. If both dictionaries have the same key, prefer the second dictionary's value."
   ]
  },
  {
   "cell_type": "code",
   "execution_count": 23,
   "id": "4006bc63-ba88-400c-b3e1-b8c464241acb",
   "metadata": {},
   "outputs": [
    {
     "name": "stdout",
     "output_type": "stream",
     "text": [
      "{'a': 1, 'b': 3, 'c': 4}\n"
     ]
    }
   ],
   "source": [
    "def merge_dicts(dict1, dict2):\n",
    "    merged = dict1.copy()\n",
    "    merged.update(dict2)\n",
    "    return merged\n",
    "\n",
    "dict1 = {'a': 1, 'b': 2}\n",
    "dict2 = {'b': 3, 'c': 4}\n",
    "print(merge_dicts(dict1, dict2))  # Output: {'a': 1, 'b': 3, 'c': 4}"
   ]
  },
  {
   "cell_type": "markdown",
   "id": "8776ab44-670d-459e-9c2f-34e3148db927",
   "metadata": {},
   "source": [
    "**9. Question:** Write a function that finds the most repeated character in a string."
   ]
  },
  {
   "cell_type": "code",
   "execution_count": 24,
   "id": "6682798f-40ef-43d2-81ad-1cbad240bfd6",
   "metadata": {},
   "outputs": [
    {
     "name": "stdout",
     "output_type": "stream",
     "text": [
      "d\n"
     ]
    }
   ],
   "source": [
    "def most_repeated(s):\n",
    "    char_count = {}\n",
    "    for char in s:\n",
    "        if char in char_count:\n",
    "            char_count[char] += 1\n",
    "        else:\n",
    "            char_count[char] = 1\n",
    "    max_char = max(char_count, key=char_count.get)\n",
    "    return max_char\n",
    "\n",
    "string = \"aabbbcdddde\"\n",
    "print(most_repeated(string))"
   ]
  },
  {
   "cell_type": "markdown",
   "id": "5b0b9c06-890b-4289-a03b-3aea39b92515",
   "metadata": {},
   "source": [
    "**10. Question:** Write a function that checks if a string contains all letters of the alphabet at least once."
   ]
  },
  {
   "cell_type": "code",
   "execution_count": 25,
   "id": "50ffb246-e1ea-4150-b4eb-1e73dc01ad36",
   "metadata": {},
   "outputs": [
    {
     "name": "stdout",
     "output_type": "stream",
     "text": [
      "True\n"
     ]
    }
   ],
   "source": [
    "import string\n",
    "\n",
    "def contains_all_alphabets(s):\n",
    "    alphabet = set(string.ascii_lowercase)\n",
    "    return set(s.lower()) >= alphabet\n",
    "\n",
    "test_string = \"The quick brown fox jumps over the lazy dog\"\n",
    "print(contains_all_alphabets(test_string))"
   ]
  },
  {
   "cell_type": "code",
   "execution_count": null,
   "id": "264acef2-a204-4b5f-8e5b-fe78f8a75f28",
   "metadata": {},
   "outputs": [],
   "source": []
  }
 ],
 "metadata": {
  "kernelspec": {
   "display_name": "Python 3 (ipykernel)",
   "language": "python",
   "name": "python3"
  },
  "language_info": {
   "codemirror_mode": {
    "name": "ipython",
    "version": 3
   },
   "file_extension": ".py",
   "mimetype": "text/x-python",
   "name": "python",
   "nbconvert_exporter": "python",
   "pygments_lexer": "ipython3",
   "version": "3.11.7"
  }
 },
 "nbformat": 4,
 "nbformat_minor": 5
}

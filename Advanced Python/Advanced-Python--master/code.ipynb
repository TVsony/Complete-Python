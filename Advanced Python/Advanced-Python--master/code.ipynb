{
 "cells": [
  {
   "cell_type": "code",
   "execution_count": 1,
   "metadata": {},
   "outputs": [
    {
     "name": "stdout",
     "output_type": "stream",
     "text": [
      "Your Password is:  6&N9,/b;\n"
     ]
    }
   ],
   "source": [
    "import random\n",
    "import string\n",
    "\n",
    "password_lenght = int(input(\"Enter a Lenght how much Charector password you want Generate\"))\n",
    "char_values = string.ascii_letters + string.digits + string.punctuation \n",
    "\n",
    "Password = \"\"\n",
    "for i in range(password_lenght):\n",
    "    Password += random.choice(char_values)\n",
    "\n",
    "print(f\"Your Password is: \" ,Password)"
   ]
  },
  {
   "cell_type": "code",
   "execution_count": null,
   "metadata": {},
   "outputs": [],
   "source": []
  }
 ],
 "metadata": {
  "kernelspec": {
   "display_name": "PassWord_Genrator",
   "language": "python",
   "name": "python3"
  },
  "language_info": {
   "codemirror_mode": {
    "name": "ipython",
    "version": 3
   },
   "file_extension": ".py",
   "mimetype": "text/x-python",
   "name": "python",
   "nbconvert_exporter": "python",
   "pygments_lexer": "ipython3",
   "version": "3.11.7"
  }
 },
 "nbformat": 4,
 "nbformat_minor": 2
}

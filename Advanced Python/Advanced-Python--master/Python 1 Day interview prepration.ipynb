{
 "cells": [
  {
   "cell_type": "code",
   "execution_count": 1,
   "id": "72685342-2055-4cfe-9a0e-c8be5744656c",
   "metadata": {},
   "outputs": [
    {
     "name": "stdout",
     "output_type": "stream",
     "text": [
      "77.0\n"
     ]
    }
   ],
   "source": [
    "# 1 Write a Program that converts Celsius to Fahrenheit temp \n",
    "\n",
    "def Cel_to_Fahrenheit(celsius):\n",
    "    return (celsius * 9/5) + 32 \n",
    "    \n",
    "print(Cel_to_Fahrenheit(25))"
   ]
  },
  {
   "cell_type": "code",
   "execution_count": 10,
   "id": "cbb3b6c4-584c-4a26-abcd-51b5393b57ce",
   "metadata": {},
   "outputs": [
    {
     "name": "stdout",
     "output_type": "stream",
     "text": [
      "Before swapping : a = 10, b = 5\n",
      "After swapping  : a = 5, b = 10\n"
     ]
    }
   ],
   "source": [
    "# 2 Write a program that swaps two variables without using temp variable.\n",
    "\n",
    "def swap_without_temp(a, b):\n",
    "    return b, a\n",
    "\n",
    "result = swap_without_temp(5, 10)\n",
    "\n",
    "print(f\"Before swapping : a = {result[0]}, b = {result[1]}\")\n",
    "print(f\"After swapping  : a = {result[1]}, b = {result[0]}\")"
   ]
  },
  {
   "cell_type": "code",
   "execution_count": 20,
   "id": "16cf2a06-ea84-4ca7-92c5-ae6635420b9a",
   "metadata": {},
   "outputs": [
    {
     "name": "stdout",
     "output_type": "stream",
     "text": [
      "00FF32\n"
     ]
    }
   ],
   "source": [
    "# 3 Write a program that converts RGB to HEX \n",
    "\n",
    "def rgb_to_hex(r, b, g):\n",
    "    return f\"{((r<<16) + (g<<8) + b):06X}\"\n",
    "    \n",
    "print(rgb_to_hex(0, 50, 255))\n"
   ]
  },
  {
   "cell_type": "code",
   "execution_count": 23,
   "id": "4cb7cfed-14a3-45e1-900c-d53531c46b1e",
   "metadata": {},
   "outputs": [
    {
     "name": "stdout",
     "output_type": "stream",
     "text": [
      "1,4,7\n",
      "2,5,8\n",
      "3,6,9\n"
     ]
    }
   ],
   "source": [
    "# 4 Write a program that transpose of a Matrix\n",
    "\n",
    "def transpose_matrix(matrix):\n",
    "    return [list(row) for row in zip(*matrix)]\n",
    "\n",
    "matrix = [\n",
    "    [1, 2, 3],\n",
    "    [4, 5, 6],\n",
    "    [7, 8, 9]\n",
    "]\n",
    "\n",
    "print(\"\\n\".join(\",\".join(map(str, row)) for row in transpose_matrix(matrix)))"
   ]
  },
  {
   "cell_type": "code",
   "execution_count": 27,
   "id": "a8c30491-7441-454c-920d-922aeabcfe14",
   "metadata": {},
   "outputs": [
    {
     "name": "stdout",
     "output_type": "stream",
     "text": [
      "[[1 4 7]\n",
      " [2 5 8]\n",
      " [3 6 9]]\n"
     ]
    }
   ],
   "source": [
    "import numpy as np\n",
    "matrix = np.array([[1, 2, 3], [4, 5, 6], [7, 8, 9]])\n",
    "transposed_matrix = matrix.T\n",
    "print(transposed_matrix)"
   ]
  },
  {
   "cell_type": "code",
   "execution_count": 34,
   "id": "4ec69668-ad6f-47d9-aba4-17efdb0ec335",
   "metadata": {},
   "outputs": [
    {
     "name": "stdout",
     "output_type": "stream",
     "text": [
      "1995-12-17 03:24:00\n"
     ]
    }
   ],
   "source": [
    "# 5 Write a program that checks if the date is valid \n",
    "\n",
    "from datetime import datetime\n",
    "\n",
    "def is_date_valid(val):\n",
    "    return datetime.strptime(val, \"%B %d, %Y %H:%M:%S\") \n",
    "\n",
    "print(is_date_valid(\"December 17, 1995 03:24:00\"))"
   ]
  },
  {
   "cell_type": "code",
   "execution_count": 35,
   "id": "2e3ec2f7-0bfe-458e-9e7b-19edffa32e7d",
   "metadata": {},
   "outputs": [
    {
     "name": "stdout",
     "output_type": "stream",
     "text": [
      "275\n"
     ]
    }
   ],
   "source": [
    "# 6 Write a program that FIND THE DAY OF YEAR \n",
    "from datetime import datetime\n",
    "def day_of_year(date):\n",
    "    return date.timetuple().tm_yday\n",
    "\n",
    "print(day_of_year(datetime(2040,10,1)))"
   ]
  },
  {
   "cell_type": "code",
   "execution_count": 36,
   "id": "d39ddb09-d914-41b4-9a5e-bad67b31db70",
   "metadata": {},
   "outputs": [
    {
     "name": "stdout",
     "output_type": "stream",
     "text": [
      "Follow for more\n"
     ]
    }
   ],
   "source": [
    "# 7 Write a program that CAPITALIZE A STRING FRIST CHARACTER \n",
    "\n",
    "def cap_first(S):\n",
    "    return S[0].upper() + S[1:] if S else \"\"\n",
    "\n",
    "print(cap_first(\"follow for more\"))"
   ]
  },
  {
   "cell_type": "code",
   "execution_count": 37,
   "id": "a6c85744-006c-4e1d-ae45-bcc8eec8a5b1",
   "metadata": {},
   "outputs": [
    {
     "name": "stdout",
     "output_type": "stream",
     "text": [
      "367\n"
     ]
    }
   ],
   "source": [
    "# 8 Write a Python Program that FIND THE NUMBER OF DAYS BETWEEN TWO DAYS \n",
    "\n",
    "from datetime import datetime\n",
    "def day_diff(date1, date2):\n",
    "    return abs((date2 - date1).days) + 1\n",
    "\n",
    "date1 = datetime(2020,10,21)\n",
    "date2 = datetime(2021,10,22)\n",
    "\n",
    "print(day_diff(date1, date2))\n"
   ]
  },
  {
   "cell_type": "code",
   "execution_count": 39,
   "id": "38235100-dc2b-4a65-98b1-40f51375182f",
   "metadata": {},
   "outputs": [
    {
     "name": "stdout",
     "output_type": "stream",
     "text": [
      "l=2,e=1,h=1,o=1\n"
     ]
    }
   ],
   "source": [
    "# 9 Write a Python program that FINDS THE FREQUENCY OF CHARACTER IN A STRING \n",
    "def freq(String):\n",
    "    return{char:String.count(char) for char in set(String)}\n",
    "\n",
    "print(\",\".join([f\"{k}={v}\" for k, v in freq(\"hello\").items()]))"
   ]
  },
  {
   "cell_type": "code",
   "execution_count": 42,
   "id": "174f355c-2837-4e9e-a8a8-13becd5ff727",
   "metadata": {},
   "outputs": [
    {
     "name": "stdout",
     "output_type": "stream",
     "text": [
      "9ADF0A\n"
     ]
    }
   ],
   "source": [
    "# 10 Write a Python program that  GENERATE RANDOM HEX \n",
    "import random\n",
    "def random_hex():\n",
    "    return f\"{random.randint(0,0xFFFFFF):06X}\"\n",
    "\n",
    "print(random_hex())"
   ]
  },
  {
   "cell_type": "code",
   "execution_count": null,
   "id": "a5c20495-b697-4a1d-9dd4-8787966106db",
   "metadata": {},
   "outputs": [],
   "source": []
  }
 ],
 "metadata": {
  "kernelspec": {
   "display_name": "Python 3 (ipykernel)",
   "language": "python",
   "name": "python3"
  },
  "language_info": {
   "codemirror_mode": {
    "name": "ipython",
    "version": 3
   },
   "file_extension": ".py",
   "mimetype": "text/x-python",
   "name": "python",
   "nbconvert_exporter": "python",
   "pygments_lexer": "ipython3",
   "version": "3.11.7"
  }
 },
 "nbformat": 4,
 "nbformat_minor": 5
}

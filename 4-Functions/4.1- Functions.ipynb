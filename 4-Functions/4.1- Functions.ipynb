{
 "cells": [
  {
   "cell_type": "markdown",
   "metadata": {},
   "source": [
    "#### Introduction to Functions\n",
    "Definition:\n",
    "\n",
    "- A function is a block of code that performs a specific task. Functions help in organizing code, reusing code, and improving readability."
   ]
  },
  {
   "cell_type": "code",
   "execution_count": null,
   "metadata": {},
   "outputs": [],
   "source": [
    "# Syntax \n",
    "def function_name(parameters):\n",
    "    # code block / function body\n",
    "    return expression  "
   ]
  },
  {
   "cell_type": "code",
   "execution_count": 1,
   "metadata": {},
   "outputs": [
    {
     "name": "stdout",
     "output_type": "stream",
     "text": [
      "the number is even\n"
     ]
    }
   ],
   "source": [
    "# why function \n",
    "num=24\n",
    "if num%2==0:\n",
    "    print(\"the number is even\")\n",
    "else:\n",
    "    print(\"the number is odd\")"
   ]
  },
  {
   "cell_type": "code",
   "execution_count": 3,
   "metadata": {},
   "outputs": [
    {
     "name": "stdout",
     "output_type": "stream",
     "text": [
      "The number is Odd\n"
     ]
    }
   ],
   "source": [
    "def even_or_odd(num):\n",
    "    '''this fuction finds even or odd'''\n",
    "    if num % 2 == 0:\n",
    "        return \"The number is Even\"\n",
    "    else:\n",
    "        return \"The number is Odd\"\n",
    "    \n",
    "\n",
    "\n",
    "# user input to fuction \n",
    "number = int(input(\"Enter a number: \"))\n",
    "# Call the function with a number as an argument\n",
    "print(even_or_odd(number))"
   ]
  },
  {
   "cell_type": "code",
   "execution_count": 5,
   "metadata": {},
   "outputs": [
    {
     "name": "stdout",
     "output_type": "stream",
     "text": [
      "5\n"
     ]
    }
   ],
   "source": [
    "# function with multiple parameter \n",
    "def add(a,b):\n",
    "    \"\"\"\n",
    "    Returns the sum of two numbers.\n",
    "    \"\"\"\n",
    "    return a + b\n",
    "result = add(2, 3)\n",
    "print(result)  \n"
   ]
  },
  {
   "cell_type": "code",
   "execution_count": 9,
   "metadata": {},
   "outputs": [
    {
     "name": "stdout",
     "output_type": "stream",
     "text": [
      "Hello, Bhimrao Well come to home!\n"
     ]
    }
   ],
   "source": [
    "## Defaults parameters \n",
    "\n",
    "def greet(name):\n",
    "    print(\"Hello, \" + name + \" Well come to home!\")\n",
    "\n",
    "greet(\"Bhimrao\") "
   ]
  },
  {
   "cell_type": "code",
   "execution_count": 12,
   "metadata": {},
   "outputs": [
    {
     "name": "stdout",
     "output_type": "stream",
     "text": [
      "Hello, Guest well come to the home !\n"
     ]
    }
   ],
   "source": [
    "def greet(name=\"Guest\"):\n",
    "    print(f\"Hello, {name} well come to the home !\")\n",
    "    \n",
    "greet()"
   ]
  },
  {
   "cell_type": "code",
   "execution_count": 13,
   "metadata": {},
   "outputs": [
    {
     "name": "stdout",
     "output_type": "stream",
     "text": [
      "Hello, Bhimrao well come to the home !\n"
     ]
    }
   ],
   "source": [
    "def greet(name=\"Guest\"):\n",
    "    print(f\"Hello, {name} well come to the home !\")\n",
    "    \n",
    "greet(\"Bhimrao\")"
   ]
  },
  {
   "cell_type": "code",
   "execution_count": 15,
   "metadata": {},
   "outputs": [
    {
     "name": "stdout",
     "output_type": "stream",
     "text": [
      "1\n",
      "2\n",
      "3\n",
      "4\n",
      "5\n",
      "Bhimrao\n"
     ]
    }
   ],
   "source": [
    "# Variable Length Arguments \n",
    "## Postional And Keywords arguments \n",
    "\n",
    "def print_numbers(*args):\n",
    "    for num in args:\n",
    "        print(num)\n",
    "\n",
    "print_numbers(1, 2, 3, 4, 5,\"Bhimrao\")"
   ]
  },
  {
   "cell_type": "code",
   "execution_count": 16,
   "metadata": {},
   "outputs": [
    {
     "name": "stdout",
     "output_type": "stream",
     "text": [
      "name: Bhimrao\n",
      "age: 30\n",
      "city: New York\n"
     ]
    }
   ],
   "source": [
    "# Keyword arguments --> Key value pairs all elements \n",
    "def my_function(**kwargs):\n",
    "    for key, value in kwargs.items():\n",
    "        print(f\"{key}: {value}\")\n",
    "\n",
    "\n",
    "my_function(name=\"Bhimrao\", age=30, city=\"New York\")"
   ]
  },
  {
   "cell_type": "code",
   "execution_count": 21,
   "metadata": {},
   "outputs": [
    {
     "name": "stdout",
     "output_type": "stream",
     "text": [
      "Positional argument: 1\n",
      "Positional argument: 2\n",
      "Positional argument: 3\n",
      "Positional argument: 4\n",
      "Positional argument: Bhimrao\n",
      "Kwargs aruments- name: Bhimrao\n",
      "Kwargs aruments- age: 36\n",
      "Kwargs aruments- country: New York\n",
      "None\n"
     ]
    }
   ],
   "source": [
    "\n",
    "def my_function(*args, **kwargs):\n",
    "    for val in args:\n",
    "        print(f\"Positional argument: {val}\")\n",
    "    for key, value in kwargs.items():\n",
    "        print(f\"Kwargs aruments- {key}: {value}\")\n",
    "\n",
    "print(my_function(1, 2, 3, 4, \"Bhimrao\", name=\"Bhimrao\", age=\"36\", country=\"New York\"))\n"
   ]
  },
  {
   "cell_type": "code",
   "execution_count": null,
   "metadata": {},
   "outputs": [],
   "source": []
  }
 ],
 "metadata": {
  "kernelspec": {
   "display_name": "Python 3",
   "language": "python",
   "name": "python3"
  },
  "language_info": {
   "codemirror_mode": {
    "name": "ipython",
    "version": 3
   },
   "file_extension": ".py",
   "mimetype": "text/x-python",
   "name": "python",
   "nbconvert_exporter": "python",
   "pygments_lexer": "ipython3",
   "version": "3.11.0"
  }
 },
 "nbformat": 4,
 "nbformat_minor": 2
}

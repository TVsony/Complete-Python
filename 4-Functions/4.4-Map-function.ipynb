{
 "cells": [
  {
   "cell_type": "markdown",
   "metadata": {},
   "source": [
    "###  The map() function \n",
    "The map() function in Python is used to apply a given function to each item of an iterable (like a list, tuple, etc.) and return a new iterable (often as a map object). It is a higher-order function that takes two arguments:\n",
    "\n",
    "- A function to apply.\n",
    "- An iterable (or multiple iterables) whose elements will be processed by the function.\n",
    "\n",
    "- function: A function that is applied to each item of the iterable.\n",
    "- iterable: One or more iterables (e.g., lists, tuples, sets).\n",
    "\n",
    "**How it works:**\n",
    "1. The lambda function takes each number in the list numbers.\n",
    "2. The map() function applies the lambda function to every item in the list and returns a map object, which we convert to a list using list().\n",
    "\n",
    "**Key Points:**\n",
    "1. Efficiency: map() is more efficient than using a for loop when performing operations on large datasets.\n",
    "2. Returns a map object: The result is not a list but a map object. You can convert it to a list or other collection using list(), tuple(), etc.\n",
    "Lazy evaluation: The map object is evaluated lazily, meaning it computes the values only when required (when converting to a list or iterating through it).\n",
    "\n",
    "**The map() function is useful when you need to apply the same transformation to all elements of an iterable.**"
   ]
  },
  {
   "cell_type": "code",
   "execution_count": 2,
   "metadata": {},
   "outputs": [],
   "source": [
    "# Syntax \n",
    " # map(function, iterable, ...)\n"
   ]
  },
  {
   "cell_type": "code",
   "execution_count": 8,
   "metadata": {},
   "outputs": [
    {
     "name": "stdout",
     "output_type": "stream",
     "text": [
      "[1, 4, 9, 16, 25]\n"
     ]
    }
   ],
   "source": [
    "numbers = [1, 2, 3, 4, 5]\n",
    "squared_numbers = list(map(lambda x: x ** 2, numbers))\n",
    "print(squared_numbers) "
   ]
  },
  {
   "cell_type": "code",
   "execution_count": 9,
   "metadata": {},
   "outputs": [
    {
     "data": {
      "text/plain": [
       "4"
      ]
     },
     "execution_count": 9,
     "metadata": {},
     "output_type": "execute_result"
    }
   ],
   "source": [
    "def square(x):\n",
    "    return x**2\n",
    "\n",
    "square(2)"
   ]
  },
  {
   "cell_type": "code",
   "execution_count": 11,
   "metadata": {},
   "outputs": [
    {
     "data": {
      "text/plain": [
       "[2, 4, 6, 8, 10, 12]"
      ]
     },
     "execution_count": 11,
     "metadata": {},
     "output_type": "execute_result"
    }
   ],
   "source": [
    "numbers = [1,2,3,4,5,6]\n",
    "\n",
    "list(map(lambda x: x*2, numbers))"
   ]
  },
  {
   "cell_type": "code",
   "execution_count": 12,
   "metadata": {},
   "outputs": [
    {
     "data": {
      "text/plain": [
       "[5, 7, 9]"
      ]
     },
     "execution_count": 12,
     "metadata": {},
     "output_type": "execute_result"
    }
   ],
   "source": [
    "numbers1=[1,2,3]\n",
    "numbers2=[4,5,6]\n",
    "\n",
    "list(map(lambda x,y:x+y,numbers1,numbers2))"
   ]
  },
  {
   "cell_type": "code",
   "execution_count": 13,
   "metadata": {},
   "outputs": [
    {
     "name": "stdout",
     "output_type": "stream",
     "text": [
      "[1, 2, 3, 4, 5]\n"
     ]
    }
   ],
   "source": [
    "## map() to convert a list of strings to integers\n",
    "def convert_to_int(string_list):\n",
    "    \"\"\"\n",
    "    Converts a list of strings to a list of integers using map()\n",
    "    \"\"\"\n",
    "    return list(map(int, string_list))\n",
    "\n",
    "# Example usage\n",
    "string_list = ['1', '2', '3', '4', '5']\n",
    "int_list = convert_to_int(string_list)\n",
    "print(int_list)  "
   ]
  },
  {
   "cell_type": "code",
   "execution_count": 15,
   "metadata": {},
   "outputs": [
    {
     "name": "stdout",
     "output_type": "stream",
     "text": [
      "['APPLE', 'BANANA', 'CHERRY']\n"
     ]
    }
   ],
   "source": [
    "words=[\"apple\",\"banana\",\"cherry\"]\n",
    "upper_word= list(map(str.upper,words))\n",
    "print(upper_word)"
   ]
  },
  {
   "cell_type": "code",
   "execution_count": 17,
   "metadata": {},
   "outputs": [
    {
     "name": "stdout",
     "output_type": "stream",
     "text": [
      "['Bhimrao', 'Raj', 'Rahul']\n"
     ]
    },
    {
     "ename": "",
     "evalue": "",
     "output_type": "error",
     "traceback": [
      "\u001b[1;31mThe Kernel crashed while executing code in the current cell or a previous cell. \n",
      "\u001b[1;31mPlease review the code in the cell(s) to identify a possible cause of the failure. \n",
      "\u001b[1;31mClick <a href='https://aka.ms/vscodeJupyterKernelCrash'>here</a> for more info. \n",
      "\u001b[1;31mView Jupyter <a href='command:jupyter.viewOutput'>log</a> for further details."
     ]
    }
   ],
   "source": [
    "def get_name(perso):\n",
    "    return perso['name']\n",
    "\n",
    "people=[\n",
    "{'name':'Bhimrao','age':36},\n",
    "{'name':'Raj','age':34},\n",
    "{'name':'Rahul','age':32}\n",
    "]\n",
    "\n",
    "list_name = list(map(get_name,people))\n",
    "print(list_name)"
   ]
  },
  {
   "cell_type": "code",
   "execution_count": null,
   "metadata": {},
   "outputs": [],
   "source": []
  }
 ],
 "metadata": {
  "kernelspec": {
   "display_name": "Python 3",
   "language": "python",
   "name": "python3"
  },
  "language_info": {
   "codemirror_mode": {
    "name": "ipython",
    "version": 3
   },
   "file_extension": ".py",
   "mimetype": "text/x-python",
   "name": "python",
   "nbconvert_exporter": "python",
   "pygments_lexer": "ipython3",
   "version": "3.11.0"
  }
 },
 "nbformat": 4,
 "nbformat_minor": 2
}

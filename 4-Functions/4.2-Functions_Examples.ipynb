{
 "cells": [
  {
   "cell_type": "markdown",
   "metadata": {},
   "source": [
    "### Examples 1 : Temperature Conversion"
   ]
  },
  {
   "cell_type": "code",
   "execution_count": 1,
   "metadata": {},
   "outputs": [
    {
     "name": "stdout",
     "output_type": "stream",
     "text": [
      "77.0\n",
      "25.0\n"
     ]
    }
   ],
   "source": [
    "def convert_temperature(temp,unit):\n",
    "    \"\"\"this fuction convert the temp from celsius to fahrenheit and vice versa\"\"\"\n",
    "    if unit.lower() == \"c\":\n",
    "        return (temp * 9/5) + 32 # convert celsius to fahrenheit\n",
    "    elif unit.lower() == \"f\":\n",
    "        return (temp - 32) * 5/9 # convert fahrenheit to celsius \n",
    "    else:\n",
    "        return \"Invalid unit. Please enter 'C' or 'F'.\"\n",
    "print(convert_temperature(25, \"C\")) \n",
    "print(convert_temperature(77, \"F\"))"
   ]
  },
  {
   "cell_type": "markdown",
   "metadata": {},
   "source": [
    "# Example 2:Password Strength Checker "
   ]
  },
  {
   "cell_type": "code",
   "execution_count": 2,
   "metadata": {},
   "outputs": [
    {
     "name": "stdout",
     "output_type": "stream",
     "text": [
      "False\n",
      "True\n"
     ]
    }
   ],
   "source": [
    "def is_strong_password(password):\n",
    "    # Check if the password length is at least 8 characters\n",
    "    if len(password) < 8:\n",
    "        return False\n",
    "\n",
    "    # Check if the password contains at least one uppercase letter\n",
    "    if not any(char.isupper() for char in password):\n",
    "        return False\n",
    "\n",
    "    # Check if the password contains at least one lowercase letter\n",
    "    if not any(char.islower() for char in password):\n",
    "        return False\n",
    "\n",
    "    # Check if the password contains at least one digit\n",
    "    if not any(char.isdigit() for char in password):\n",
    "        return False\n",
    "    \n",
    "    if not any(char in \"!@#$%^&*()_+\" for char in password):\n",
    "        return False\n",
    "\n",
    "    # If all conditions are met, the password is considered strong\n",
    "    return True\n",
    "\n",
    "## Calling the function\n",
    "print(is_strong_password(\"MyWeakPassWord\"))\n",
    "print(is_strong_password(\"MyStr0ngP@ssw0rd\"))"
   ]
  },
  {
   "cell_type": "markdown",
   "metadata": {},
   "source": [
    "## Examples 3: Calculate the Total Cost of Items In a Shopping Cart"
   ]
  },
  {
   "cell_type": "code",
   "execution_count": 5,
   "metadata": {},
   "outputs": [
    {
     "name": "stdout",
     "output_type": "stream",
     "text": [
      "Total cost of the cart: $21.25\n"
     ]
    }
   ],
   "source": [
    "def calcutate_total_cost(cart):\n",
    "    total_cost=0\n",
    "    for item in cart:\n",
    "        item_cost=item['Price']*item['quantity']\n",
    "        total_cost+=item_cost\n",
    "    return total_cost\n",
    "\n",
    "\n",
    "\n",
    "cart=[\n",
    "    {'name':'Apple','Price':0.5,'quantity':10},\n",
    "    {'name':'Banana','Price':0.25,'quantity':20},\n",
    "    {'name':'Orange','Price':0.75,'quantity':15}]\n",
    "\n",
    "\n",
    "## Calling the function\n",
    "total_cost=calcutate_total_cost(cart)\n",
    "print(f\"Total cost of the cart: ${total_cost:.2f}\")"
   ]
  },
  {
   "cell_type": "markdown",
   "metadata": {},
   "source": [
    "#### Example 4: Check If a String Is Palindrome \n",
    "\n",
    "A palindrome is a word, phrase, number, or sequence of characters that reads the same forward and backward, ignoring spaces, punctuation, and capitalization. In other words, a palindrome remains unchanged when its letters or digits are reversed.\n",
    "\n",
    "- \"madam\"\n",
    "- \"level\"\n",
    "- \"radar\"\n"
   ]
  },
  {
   "cell_type": "code",
   "execution_count": 7,
   "metadata": {},
   "outputs": [
    {
     "name": "stdout",
     "output_type": "stream",
     "text": [
      "True\n",
      "False\n"
     ]
    }
   ],
   "source": [
    "def is_palindrome(s):\n",
    "    s = s.lower().replace(\" \", \"\")\n",
    "    return s == s[::-1]\n",
    "\n",
    "\n",
    "print(is_palindrome(\"madam\"))  \n",
    "print(is_palindrome(\"Hello\"))"
   ]
  },
  {
   "cell_type": "markdown",
   "metadata": {},
   "source": [
    "### Examoles 5: Calculate the factorials of a number using recursion\n",
    "\n",
    "\n",
    "Recursion is a programming technique where a function calls itself to solve a problem. This allows the problem to be broken down into smaller, more manageable subproblems that are easier to solve. The function continues to call itself with modified arguments until it reaches a base case — a condition that stops the recursion.\n",
    "\n",
    "Key components of recursion:\n",
    "- Base Case: A condition where the recursion ends. This prevents the function from calling itself indefinitely.\n",
    "- Recursive Case: The part where the function calls itself to work on a smaller version of the problem.\n",
    "\n",
    "**Example: Factorial Calculation**\n",
    "The factorial of a number n (denoted n!) is the product of all positive integers less than or equal to n. For example, 5! = 5 * 4 * 3 * 2 * 1 = 120. This can be defined recursively as:\n",
    "\n",
    "n! = n * (n - 1)! with the base case 0! = 1.\n"
   ]
  },
  {
   "cell_type": "code",
   "execution_count": 8,
   "metadata": {},
   "outputs": [
    {
     "name": "stdout",
     "output_type": "stream",
     "text": [
      "120\n"
     ]
    }
   ],
   "source": [
    "from math import factorial\n",
    "def factorial(n):\n",
    "    if n == 0:\n",
    "        return 1\n",
    "    else:\n",
    "        return n * factorial(n-1)\n",
    "    \n",
    "print(factorial(5))"
   ]
  },
  {
   "cell_type": "markdown",
   "metadata": {},
   "source": [
    "### Example 6: A function To read a File and count the frequency of each word"
   ]
  },
  {
   "cell_type": "code",
   "execution_count": 10,
   "metadata": {},
   "outputs": [
    {
     "name": "stdout",
     "output_type": "stream",
     "text": [
      "{'Hello': 1, 'World': 1, 'How': 1, 'are': 1, 'you': 1, 'My': 1, 'Name': 1, 'is': 1, 'Bhimrao': 1}\n"
     ]
    }
   ],
   "source": [
    "def count_word_frequency(file_path):\n",
    "    word_count = {}\n",
    "    with open(file_path, 'r') as file:\n",
    "        for line in file:\n",
    "            words = line.strip().split()\n",
    "            for word in words:\n",
    "                if word in word_count:\n",
    "                    word_count[word] += 1\n",
    "                else:\n",
    "                    word_count[word] = 1\n",
    "    return word_count\n",
    "\n",
    "file_path = 'sample.txt'\n",
    "word_frequencies = count_word_frequency(file_path)\n",
    "print(word_frequencies)\n"
   ]
  },
  {
   "cell_type": "markdown",
   "metadata": {},
   "source": [
    "### Example 7: Validate Email Address "
   ]
  },
  {
   "cell_type": "code",
   "execution_count": 11,
   "metadata": {},
   "outputs": [
    {
     "name": "stdout",
     "output_type": "stream",
     "text": [
      "Valid email address\n"
     ]
    }
   ],
   "source": [
    "import re\n",
    "#Email validation Function \n",
    "def validate_email(email):\n",
    "    pattern = r'^[\\w\\.-]+@[\\w\\.-]+\\.\\w+$'\n",
    "    if re.match(pattern, email):\n",
    "        return True\n",
    "    else:\n",
    "        return False\n",
    "    \n",
    "# Call the function with a sample email address\n",
    "email = \"example@example.com\"\n",
    "if validate_email(email):\n",
    "    print(\"Valid email address\")\n",
    "else:\n",
    "    print(\"Invalid email address\")"
   ]
  },
  {
   "cell_type": "code",
   "execution_count": null,
   "metadata": {},
   "outputs": [],
   "source": []
  }
 ],
 "metadata": {
  "kernelspec": {
   "display_name": "Python 3",
   "language": "python",
   "name": "python3"
  },
  "language_info": {
   "codemirror_mode": {
    "name": "ipython",
    "version": 3
   },
   "file_extension": ".py",
   "mimetype": "text/x-python",
   "name": "python",
   "nbconvert_exporter": "python",
   "pygments_lexer": "ipython3",
   "version": "3.11.0"
  }
 },
 "nbformat": 4,
 "nbformat_minor": 2
}

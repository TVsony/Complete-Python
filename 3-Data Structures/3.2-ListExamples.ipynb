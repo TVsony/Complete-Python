{
 "cells": [
  {
   "cell_type": "markdown",
   "metadata": {},
   "source": [
    "### Real word examples "
   ]
  },
  {
   "cell_type": "code",
   "execution_count": 1,
   "metadata": {},
   "outputs": [
    {
     "name": "stdout",
     "output_type": "stream",
     "text": [
      "Don't forget to pay the utility bills\n",
      "To Do List remaining\n",
      "-Buy Groceries\n",
      "-Pay bills\n",
      "-Schedule meeting\n",
      "-Go for a Run\n"
     ]
    }
   ],
   "source": [
    "# Mange to do list \n",
    "# Create  a to do list to keep Track of Tasks \n",
    "\n",
    "to_do_list = [\"Buy Groceries\",\"Clean the house\",\"Pay bills\"]\n",
    "\n",
    "to_do_list.append(\"Schedule meeting\")\n",
    "to_do_list.append(\"Go for a Run\")\n",
    "\n",
    "to_do_list.remove(\"Clean the house\")\n",
    "\n",
    "if \"Pay bills\" in to_do_list:\n",
    "    print(\"Don't forget to pay the utility bills\")\n",
    "print(\"To Do List remaining\")\n",
    "\n",
    "for task in to_do_list:\n",
    "    print(f\"-{task}\")"
   ]
  },
  {
   "cell_type": "code",
   "execution_count": 2,
   "metadata": {},
   "outputs": [
    {
     "name": "stdout",
     "output_type": "stream",
     "text": [
      "Average Grade: 88.00\n",
      "Highest Grade: 95\n",
      "Lowest grade: 78\n"
     ]
    }
   ],
   "source": [
    "# Create a list to store and calculate average grades for students\n",
    "\n",
    "grades = [85,92,78,90, 88]\n",
    "\n",
    "# Adding a new grade\n",
    "grades.append(95)\n",
    "\n",
    "# calculate the average grade \n",
    "avg_grade = sum(grades) / len(grades)\n",
    "\n",
    "print(f\"Average Grade: {avg_grade:.2f}\")\n",
    "\n",
    "# Finding the highest and lowest grades\n",
    "\n",
    "highest_grade = max(grades)\n",
    "\n",
    "lowest_grade = min(grades)\n",
    "print(f\"Highest Grade: {highest_grade}\")\n",
    "\n",
    "print(f\"Lowest grade: {lowest_grade}\")\n"
   ]
  },
  {
   "cell_type": "code",
   "execution_count": 3,
   "metadata": {},
   "outputs": [
    {
     "name": "stdout",
     "output_type": "stream",
     "text": [
      "oranges are out of stock\n",
      "Inventry List:\n",
      "- apple\n",
      "- orange\n",
      "- grapes\n",
      "- Strawberrie\n"
     ]
    }
   ],
   "source": [
    "# Use a list to manage inventory items in a store\n",
    "\n",
    "inventry = ['apple','bananas','orange','grapes']\n",
    "\n",
    "# Adding new item \n",
    "inventry.append(\"Strawberrie\")\n",
    "\n",
    "# Removing an item that is out of stock\n",
    "inventry.remove('bananas')\n",
    "\n",
    "# checking if an items is in stock\n",
    "item = 'oranges'\n",
    "if item in inventry:\n",
    "    print(f\"{item} are in stock\")\n",
    "else:\n",
    "    print(f\"{item} are out of stock\")\n",
    "\n",
    "# Printing the inventry \n",
    "print(\"Inventry List:\")\n",
    "for item in inventry:\n",
    "    print(f\"- {item}\")\n"
   ]
  },
  {
   "cell_type": "code",
   "execution_count": 5,
   "metadata": {},
   "outputs": [
    {
     "name": "stdout",
     "output_type": "stream",
     "text": [
      "Positive feedback count: 2\n",
      "User Feedback:\n",
      "- Great service!\n",
      "- Very satisfied\n",
      "- Could be better\n",
      "- Excellent experience\n",
      "- Not happy with services\n"
     ]
    }
   ],
   "source": [
    "# Use a list to collect and analyze user feedback\n",
    "feedback = [\"Great service!\", \"Very satisfied\", \"Could be better\", \"Excellent experience\"]\n",
    "\n",
    "# Adding New feedback\n",
    "feedback.append(\"Not happy with services\")\n",
    "\n",
    "# Counting the specific feedback\n",
    "positive_feedback_count = sum(1 for comment in feedback if \"great\" in comment.lower() or \"excellent\" in comment.lower())\n",
    "print(f\"Positive feedback count: {positive_feedback_count}\")\n",
    "\n",
    "# Printing all feedback\n",
    "print(\"User Feedback:\")\n",
    "for comment in feedback:\n",
    "    print(f\"- {comment}\")\n"
   ]
  },
  {
   "cell_type": "code",
   "execution_count": null,
   "metadata": {},
   "outputs": [],
   "source": []
  },
  {
   "cell_type": "code",
   "execution_count": null,
   "metadata": {},
   "outputs": [],
   "source": []
  }
 ],
 "metadata": {
  "kernelspec": {
   "display_name": "Python 3",
   "language": "python",
   "name": "python3"
  },
  "language_info": {
   "codemirror_mode": {
    "name": "ipython",
    "version": 3
   },
   "file_extension": ".py",
   "mimetype": "text/x-python",
   "name": "python",
   "nbconvert_exporter": "python",
   "pygments_lexer": "ipython3",
   "version": "3.11.0"
  }
 },
 "nbformat": 4,
 "nbformat_minor": 2
}
